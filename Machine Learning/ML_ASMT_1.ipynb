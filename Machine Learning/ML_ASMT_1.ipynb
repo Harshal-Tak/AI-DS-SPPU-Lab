{
 "cells": [
  {
   "cell_type": "markdown",
   "id": "237c9b5b-a059-49e0-b400-f8a59c991455",
   "metadata": {
    "jp-MarkdownHeadingCollapsed": true
   },
   "source": [
    "#### **Feature Transformation - To use PCA Algorithm for dimensionality reduction.**\n",
    "\n",
    "You have a dataset that includes measurements for different variables on wine\n",
    "(alcohol, ash, magnesium, and so on). Apply PCA algorithm & transform this data\n",
    "so that most variations in the measurements of the variables are captured by a small\n",
    "number of principal components so that it is easier to distinguish between red and\n",
    "white wine by inspecting these principal components.\n",
    "\n",
    "Dataset Link: https://media.geeksforgeeks.org/wp-content/uploads/Wine.csv"
   ]
  },
  {
   "cell_type": "markdown",
   "id": "7085415a",
   "metadata": {},
   "source": [
    "### **Importing Libraries**"
   ]
  },
  {
   "cell_type": "code",
   "execution_count": 1,
   "id": "a493d62c",
   "metadata": {},
   "outputs": [],
   "source": [
    "import numpy as np\n",
    "import pandas as pd\n",
    "import matplotlib.pyplot as plt\n",
    "import plotly.graph_objects as go\n",
    "import warnings\n",
    "warnings.filterwarnings(\"ignore\")"
   ]
  },
  {
   "cell_type": "markdown",
   "id": "0551b3aa",
   "metadata": {},
   "source": [
    "### **Loading the Dataset**"
   ]
  },
  {
   "cell_type": "markdown",
   "id": "4af4c503",
   "metadata": {},
   "source": [
    "#### _URL Of the Dataset (Wine Dataset)_ : https://media.geeksforgeeks.org/wp-content/uploads/Wine.csv"
   ]
  },
  {
   "cell_type": "code",
   "execution_count": 2,
   "id": "d461deb0",
   "metadata": {},
   "outputs": [],
   "source": [
    "df = pd.read_csv('Wine.csv')"
   ]
  },
  {
   "cell_type": "code",
   "execution_count": 3,
   "id": "a7e92c98",
   "metadata": {},
   "outputs": [
    {
     "data": {
      "text/html": [
       "<div>\n",
       "<style scoped>\n",
       "    .dataframe tbody tr th:only-of-type {\n",
       "        vertical-align: middle;\n",
       "    }\n",
       "\n",
       "    .dataframe tbody tr th {\n",
       "        vertical-align: top;\n",
       "    }\n",
       "\n",
       "    .dataframe thead th {\n",
       "        text-align: right;\n",
       "    }\n",
       "</style>\n",
       "<table border=\"1\" class=\"dataframe\">\n",
       "  <thead>\n",
       "    <tr style=\"text-align: right;\">\n",
       "      <th></th>\n",
       "      <th>Alcohol</th>\n",
       "      <th>Malic_Acid</th>\n",
       "      <th>Ash</th>\n",
       "      <th>Ash_Alcanity</th>\n",
       "      <th>Magnesium</th>\n",
       "      <th>Total_Phenols</th>\n",
       "      <th>Flavanoids</th>\n",
       "      <th>Nonflavanoid_Phenols</th>\n",
       "      <th>Proanthocyanins</th>\n",
       "      <th>Color_Intensity</th>\n",
       "      <th>Hue</th>\n",
       "      <th>OD280</th>\n",
       "      <th>Proline</th>\n",
       "      <th>Customer_Segment</th>\n",
       "    </tr>\n",
       "  </thead>\n",
       "  <tbody>\n",
       "    <tr>\n",
       "      <th>0</th>\n",
       "      <td>14.23</td>\n",
       "      <td>1.71</td>\n",
       "      <td>2.43</td>\n",
       "      <td>15.6</td>\n",
       "      <td>127</td>\n",
       "      <td>2.80</td>\n",
       "      <td>3.06</td>\n",
       "      <td>0.28</td>\n",
       "      <td>2.29</td>\n",
       "      <td>5.64</td>\n",
       "      <td>1.04</td>\n",
       "      <td>3.92</td>\n",
       "      <td>1065</td>\n",
       "      <td>1</td>\n",
       "    </tr>\n",
       "    <tr>\n",
       "      <th>1</th>\n",
       "      <td>13.20</td>\n",
       "      <td>1.78</td>\n",
       "      <td>2.14</td>\n",
       "      <td>11.2</td>\n",
       "      <td>100</td>\n",
       "      <td>2.65</td>\n",
       "      <td>2.76</td>\n",
       "      <td>0.26</td>\n",
       "      <td>1.28</td>\n",
       "      <td>4.38</td>\n",
       "      <td>1.05</td>\n",
       "      <td>3.40</td>\n",
       "      <td>1050</td>\n",
       "      <td>1</td>\n",
       "    </tr>\n",
       "    <tr>\n",
       "      <th>2</th>\n",
       "      <td>13.16</td>\n",
       "      <td>2.36</td>\n",
       "      <td>2.67</td>\n",
       "      <td>18.6</td>\n",
       "      <td>101</td>\n",
       "      <td>2.80</td>\n",
       "      <td>3.24</td>\n",
       "      <td>0.30</td>\n",
       "      <td>2.81</td>\n",
       "      <td>5.68</td>\n",
       "      <td>1.03</td>\n",
       "      <td>3.17</td>\n",
       "      <td>1185</td>\n",
       "      <td>1</td>\n",
       "    </tr>\n",
       "    <tr>\n",
       "      <th>3</th>\n",
       "      <td>14.37</td>\n",
       "      <td>1.95</td>\n",
       "      <td>2.50</td>\n",
       "      <td>16.8</td>\n",
       "      <td>113</td>\n",
       "      <td>3.85</td>\n",
       "      <td>3.49</td>\n",
       "      <td>0.24</td>\n",
       "      <td>2.18</td>\n",
       "      <td>7.80</td>\n",
       "      <td>0.86</td>\n",
       "      <td>3.45</td>\n",
       "      <td>1480</td>\n",
       "      <td>1</td>\n",
       "    </tr>\n",
       "    <tr>\n",
       "      <th>4</th>\n",
       "      <td>13.24</td>\n",
       "      <td>2.59</td>\n",
       "      <td>2.87</td>\n",
       "      <td>21.0</td>\n",
       "      <td>118</td>\n",
       "      <td>2.80</td>\n",
       "      <td>2.69</td>\n",
       "      <td>0.39</td>\n",
       "      <td>1.82</td>\n",
       "      <td>4.32</td>\n",
       "      <td>1.04</td>\n",
       "      <td>2.93</td>\n",
       "      <td>735</td>\n",
       "      <td>1</td>\n",
       "    </tr>\n",
       "    <tr>\n",
       "      <th>...</th>\n",
       "      <td>...</td>\n",
       "      <td>...</td>\n",
       "      <td>...</td>\n",
       "      <td>...</td>\n",
       "      <td>...</td>\n",
       "      <td>...</td>\n",
       "      <td>...</td>\n",
       "      <td>...</td>\n",
       "      <td>...</td>\n",
       "      <td>...</td>\n",
       "      <td>...</td>\n",
       "      <td>...</td>\n",
       "      <td>...</td>\n",
       "      <td>...</td>\n",
       "    </tr>\n",
       "    <tr>\n",
       "      <th>173</th>\n",
       "      <td>13.71</td>\n",
       "      <td>5.65</td>\n",
       "      <td>2.45</td>\n",
       "      <td>20.5</td>\n",
       "      <td>95</td>\n",
       "      <td>1.68</td>\n",
       "      <td>0.61</td>\n",
       "      <td>0.52</td>\n",
       "      <td>1.06</td>\n",
       "      <td>7.70</td>\n",
       "      <td>0.64</td>\n",
       "      <td>1.74</td>\n",
       "      <td>740</td>\n",
       "      <td>3</td>\n",
       "    </tr>\n",
       "    <tr>\n",
       "      <th>174</th>\n",
       "      <td>13.40</td>\n",
       "      <td>3.91</td>\n",
       "      <td>2.48</td>\n",
       "      <td>23.0</td>\n",
       "      <td>102</td>\n",
       "      <td>1.80</td>\n",
       "      <td>0.75</td>\n",
       "      <td>0.43</td>\n",
       "      <td>1.41</td>\n",
       "      <td>7.30</td>\n",
       "      <td>0.70</td>\n",
       "      <td>1.56</td>\n",
       "      <td>750</td>\n",
       "      <td>3</td>\n",
       "    </tr>\n",
       "    <tr>\n",
       "      <th>175</th>\n",
       "      <td>13.27</td>\n",
       "      <td>4.28</td>\n",
       "      <td>2.26</td>\n",
       "      <td>20.0</td>\n",
       "      <td>120</td>\n",
       "      <td>1.59</td>\n",
       "      <td>0.69</td>\n",
       "      <td>0.43</td>\n",
       "      <td>1.35</td>\n",
       "      <td>10.20</td>\n",
       "      <td>0.59</td>\n",
       "      <td>1.56</td>\n",
       "      <td>835</td>\n",
       "      <td>3</td>\n",
       "    </tr>\n",
       "    <tr>\n",
       "      <th>176</th>\n",
       "      <td>13.17</td>\n",
       "      <td>2.59</td>\n",
       "      <td>2.37</td>\n",
       "      <td>20.0</td>\n",
       "      <td>120</td>\n",
       "      <td>1.65</td>\n",
       "      <td>0.68</td>\n",
       "      <td>0.53</td>\n",
       "      <td>1.46</td>\n",
       "      <td>9.30</td>\n",
       "      <td>0.60</td>\n",
       "      <td>1.62</td>\n",
       "      <td>840</td>\n",
       "      <td>3</td>\n",
       "    </tr>\n",
       "    <tr>\n",
       "      <th>177</th>\n",
       "      <td>14.13</td>\n",
       "      <td>4.10</td>\n",
       "      <td>2.74</td>\n",
       "      <td>24.5</td>\n",
       "      <td>96</td>\n",
       "      <td>2.05</td>\n",
       "      <td>0.76</td>\n",
       "      <td>0.56</td>\n",
       "      <td>1.35</td>\n",
       "      <td>9.20</td>\n",
       "      <td>0.61</td>\n",
       "      <td>1.60</td>\n",
       "      <td>560</td>\n",
       "      <td>3</td>\n",
       "    </tr>\n",
       "  </tbody>\n",
       "</table>\n",
       "<p>178 rows × 14 columns</p>\n",
       "</div>"
      ],
      "text/plain": [
       "     Alcohol  Malic_Acid   Ash  Ash_Alcanity  Magnesium  Total_Phenols  \\\n",
       "0      14.23        1.71  2.43          15.6        127           2.80   \n",
       "1      13.20        1.78  2.14          11.2        100           2.65   \n",
       "2      13.16        2.36  2.67          18.6        101           2.80   \n",
       "3      14.37        1.95  2.50          16.8        113           3.85   \n",
       "4      13.24        2.59  2.87          21.0        118           2.80   \n",
       "..       ...         ...   ...           ...        ...            ...   \n",
       "173    13.71        5.65  2.45          20.5         95           1.68   \n",
       "174    13.40        3.91  2.48          23.0        102           1.80   \n",
       "175    13.27        4.28  2.26          20.0        120           1.59   \n",
       "176    13.17        2.59  2.37          20.0        120           1.65   \n",
       "177    14.13        4.10  2.74          24.5         96           2.05   \n",
       "\n",
       "     Flavanoids  Nonflavanoid_Phenols  Proanthocyanins  Color_Intensity   Hue  \\\n",
       "0          3.06                  0.28             2.29             5.64  1.04   \n",
       "1          2.76                  0.26             1.28             4.38  1.05   \n",
       "2          3.24                  0.30             2.81             5.68  1.03   \n",
       "3          3.49                  0.24             2.18             7.80  0.86   \n",
       "4          2.69                  0.39             1.82             4.32  1.04   \n",
       "..          ...                   ...              ...              ...   ...   \n",
       "173        0.61                  0.52             1.06             7.70  0.64   \n",
       "174        0.75                  0.43             1.41             7.30  0.70   \n",
       "175        0.69                  0.43             1.35            10.20  0.59   \n",
       "176        0.68                  0.53             1.46             9.30  0.60   \n",
       "177        0.76                  0.56             1.35             9.20  0.61   \n",
       "\n",
       "     OD280  Proline  Customer_Segment  \n",
       "0     3.92     1065                 1  \n",
       "1     3.40     1050                 1  \n",
       "2     3.17     1185                 1  \n",
       "3     3.45     1480                 1  \n",
       "4     2.93      735                 1  \n",
       "..     ...      ...               ...  \n",
       "173   1.74      740                 3  \n",
       "174   1.56      750                 3  \n",
       "175   1.56      835                 3  \n",
       "176   1.62      840                 3  \n",
       "177   1.60      560                 3  \n",
       "\n",
       "[178 rows x 14 columns]"
      ]
     },
     "execution_count": 3,
     "metadata": {},
     "output_type": "execute_result"
    }
   ],
   "source": [
    "df"
   ]
  },
  {
   "cell_type": "markdown",
   "id": "f3a86995",
   "metadata": {},
   "source": [
    "### **Understanding The Dataset**"
   ]
  },
  {
   "cell_type": "code",
   "execution_count": 4,
   "id": "17ff1b27",
   "metadata": {},
   "outputs": [
    {
     "data": {
      "text/plain": [
       "(178, 14)"
      ]
     },
     "execution_count": 4,
     "metadata": {},
     "output_type": "execute_result"
    }
   ],
   "source": [
    "# Checking dimensions of the data frame\n",
    "df.shape"
   ]
  },
  {
   "cell_type": "code",
   "execution_count": 5,
   "id": "4ca427df",
   "metadata": {},
   "outputs": [
    {
     "name": "stdout",
     "output_type": "stream",
     "text": [
      "<class 'pandas.core.frame.DataFrame'>\n",
      "RangeIndex: 178 entries, 0 to 177\n",
      "Data columns (total 14 columns):\n",
      " #   Column                Non-Null Count  Dtype  \n",
      "---  ------                --------------  -----  \n",
      " 0   Alcohol               178 non-null    float64\n",
      " 1   Malic_Acid            178 non-null    float64\n",
      " 2   Ash                   178 non-null    float64\n",
      " 3   Ash_Alcanity          178 non-null    float64\n",
      " 4   Magnesium             178 non-null    int64  \n",
      " 5   Total_Phenols         178 non-null    float64\n",
      " 6   Flavanoids            178 non-null    float64\n",
      " 7   Nonflavanoid_Phenols  178 non-null    float64\n",
      " 8   Proanthocyanins       178 non-null    float64\n",
      " 9   Color_Intensity       178 non-null    float64\n",
      " 10  Hue                   178 non-null    float64\n",
      " 11  OD280                 178 non-null    float64\n",
      " 12  Proline               178 non-null    int64  \n",
      " 13  Customer_Segment      178 non-null    int64  \n",
      "dtypes: float64(11), int64(3)\n",
      "memory usage: 19.6 KB\n"
     ]
    }
   ],
   "source": [
    "# Variable descriptions\n",
    "df.info()"
   ]
  },
  {
   "cell_type": "code",
   "execution_count": 6,
   "id": "0ba24bc2",
   "metadata": {},
   "outputs": [
    {
     "data": {
      "text/plain": [
       "Alcohol                 float64\n",
       "Malic_Acid              float64\n",
       "Ash                     float64\n",
       "Ash_Alcanity            float64\n",
       "Magnesium                 int64\n",
       "Total_Phenols           float64\n",
       "Flavanoids              float64\n",
       "Nonflavanoid_Phenols    float64\n",
       "Proanthocyanins         float64\n",
       "Color_Intensity         float64\n",
       "Hue                     float64\n",
       "OD280                   float64\n",
       "Proline                   int64\n",
       "Customer_Segment          int64\n",
       "dtype: object"
      ]
     },
     "execution_count": 6,
     "metadata": {},
     "output_type": "execute_result"
    }
   ],
   "source": [
    "#Checking Datatypes of each column\n",
    "df.dtypes"
   ]
  },
  {
   "cell_type": "code",
   "execution_count": 7,
   "id": "19f5b163",
   "metadata": {},
   "outputs": [
    {
     "data": {
      "text/html": [
       "<div>\n",
       "<style scoped>\n",
       "    .dataframe tbody tr th:only-of-type {\n",
       "        vertical-align: middle;\n",
       "    }\n",
       "\n",
       "    .dataframe tbody tr th {\n",
       "        vertical-align: top;\n",
       "    }\n",
       "\n",
       "    .dataframe thead th {\n",
       "        text-align: right;\n",
       "    }\n",
       "</style>\n",
       "<table border=\"1\" class=\"dataframe\">\n",
       "  <thead>\n",
       "    <tr style=\"text-align: right;\">\n",
       "      <th></th>\n",
       "      <th>Alcohol</th>\n",
       "      <th>Malic_Acid</th>\n",
       "      <th>Ash</th>\n",
       "      <th>Ash_Alcanity</th>\n",
       "      <th>Magnesium</th>\n",
       "      <th>Total_Phenols</th>\n",
       "      <th>Flavanoids</th>\n",
       "      <th>Nonflavanoid_Phenols</th>\n",
       "      <th>Proanthocyanins</th>\n",
       "      <th>Color_Intensity</th>\n",
       "      <th>Hue</th>\n",
       "      <th>OD280</th>\n",
       "      <th>Proline</th>\n",
       "      <th>Customer_Segment</th>\n",
       "    </tr>\n",
       "  </thead>\n",
       "  <tbody>\n",
       "    <tr>\n",
       "      <th>count</th>\n",
       "      <td>178.000000</td>\n",
       "      <td>178.000000</td>\n",
       "      <td>178.000000</td>\n",
       "      <td>178.000000</td>\n",
       "      <td>178.000000</td>\n",
       "      <td>178.000000</td>\n",
       "      <td>178.000000</td>\n",
       "      <td>178.000000</td>\n",
       "      <td>178.000000</td>\n",
       "      <td>178.000000</td>\n",
       "      <td>178.000000</td>\n",
       "      <td>178.000000</td>\n",
       "      <td>178.000000</td>\n",
       "      <td>178.000000</td>\n",
       "    </tr>\n",
       "    <tr>\n",
       "      <th>mean</th>\n",
       "      <td>13.000618</td>\n",
       "      <td>2.336348</td>\n",
       "      <td>2.366517</td>\n",
       "      <td>19.494944</td>\n",
       "      <td>99.741573</td>\n",
       "      <td>2.295112</td>\n",
       "      <td>2.029270</td>\n",
       "      <td>0.361854</td>\n",
       "      <td>1.590899</td>\n",
       "      <td>5.058090</td>\n",
       "      <td>0.957449</td>\n",
       "      <td>2.611685</td>\n",
       "      <td>746.893258</td>\n",
       "      <td>1.938202</td>\n",
       "    </tr>\n",
       "    <tr>\n",
       "      <th>std</th>\n",
       "      <td>0.811827</td>\n",
       "      <td>1.117146</td>\n",
       "      <td>0.274344</td>\n",
       "      <td>3.339564</td>\n",
       "      <td>14.282484</td>\n",
       "      <td>0.625851</td>\n",
       "      <td>0.998859</td>\n",
       "      <td>0.124453</td>\n",
       "      <td>0.572359</td>\n",
       "      <td>2.318286</td>\n",
       "      <td>0.228572</td>\n",
       "      <td>0.709990</td>\n",
       "      <td>314.907474</td>\n",
       "      <td>0.775035</td>\n",
       "    </tr>\n",
       "    <tr>\n",
       "      <th>min</th>\n",
       "      <td>11.030000</td>\n",
       "      <td>0.740000</td>\n",
       "      <td>1.360000</td>\n",
       "      <td>10.600000</td>\n",
       "      <td>70.000000</td>\n",
       "      <td>0.980000</td>\n",
       "      <td>0.340000</td>\n",
       "      <td>0.130000</td>\n",
       "      <td>0.410000</td>\n",
       "      <td>1.280000</td>\n",
       "      <td>0.480000</td>\n",
       "      <td>1.270000</td>\n",
       "      <td>278.000000</td>\n",
       "      <td>1.000000</td>\n",
       "    </tr>\n",
       "    <tr>\n",
       "      <th>25%</th>\n",
       "      <td>12.362500</td>\n",
       "      <td>1.602500</td>\n",
       "      <td>2.210000</td>\n",
       "      <td>17.200000</td>\n",
       "      <td>88.000000</td>\n",
       "      <td>1.742500</td>\n",
       "      <td>1.205000</td>\n",
       "      <td>0.270000</td>\n",
       "      <td>1.250000</td>\n",
       "      <td>3.220000</td>\n",
       "      <td>0.782500</td>\n",
       "      <td>1.937500</td>\n",
       "      <td>500.500000</td>\n",
       "      <td>1.000000</td>\n",
       "    </tr>\n",
       "    <tr>\n",
       "      <th>50%</th>\n",
       "      <td>13.050000</td>\n",
       "      <td>1.865000</td>\n",
       "      <td>2.360000</td>\n",
       "      <td>19.500000</td>\n",
       "      <td>98.000000</td>\n",
       "      <td>2.355000</td>\n",
       "      <td>2.135000</td>\n",
       "      <td>0.340000</td>\n",
       "      <td>1.555000</td>\n",
       "      <td>4.690000</td>\n",
       "      <td>0.965000</td>\n",
       "      <td>2.780000</td>\n",
       "      <td>673.500000</td>\n",
       "      <td>2.000000</td>\n",
       "    </tr>\n",
       "    <tr>\n",
       "      <th>75%</th>\n",
       "      <td>13.677500</td>\n",
       "      <td>3.082500</td>\n",
       "      <td>2.557500</td>\n",
       "      <td>21.500000</td>\n",
       "      <td>107.000000</td>\n",
       "      <td>2.800000</td>\n",
       "      <td>2.875000</td>\n",
       "      <td>0.437500</td>\n",
       "      <td>1.950000</td>\n",
       "      <td>6.200000</td>\n",
       "      <td>1.120000</td>\n",
       "      <td>3.170000</td>\n",
       "      <td>985.000000</td>\n",
       "      <td>3.000000</td>\n",
       "    </tr>\n",
       "    <tr>\n",
       "      <th>max</th>\n",
       "      <td>14.830000</td>\n",
       "      <td>5.800000</td>\n",
       "      <td>3.230000</td>\n",
       "      <td>30.000000</td>\n",
       "      <td>162.000000</td>\n",
       "      <td>3.880000</td>\n",
       "      <td>5.080000</td>\n",
       "      <td>0.660000</td>\n",
       "      <td>3.580000</td>\n",
       "      <td>13.000000</td>\n",
       "      <td>1.710000</td>\n",
       "      <td>4.000000</td>\n",
       "      <td>1680.000000</td>\n",
       "      <td>3.000000</td>\n",
       "    </tr>\n",
       "  </tbody>\n",
       "</table>\n",
       "</div>"
      ],
      "text/plain": [
       "          Alcohol  Malic_Acid         Ash  Ash_Alcanity   Magnesium  \\\n",
       "count  178.000000  178.000000  178.000000    178.000000  178.000000   \n",
       "mean    13.000618    2.336348    2.366517     19.494944   99.741573   \n",
       "std      0.811827    1.117146    0.274344      3.339564   14.282484   \n",
       "min     11.030000    0.740000    1.360000     10.600000   70.000000   \n",
       "25%     12.362500    1.602500    2.210000     17.200000   88.000000   \n",
       "50%     13.050000    1.865000    2.360000     19.500000   98.000000   \n",
       "75%     13.677500    3.082500    2.557500     21.500000  107.000000   \n",
       "max     14.830000    5.800000    3.230000     30.000000  162.000000   \n",
       "\n",
       "       Total_Phenols  Flavanoids  Nonflavanoid_Phenols  Proanthocyanins  \\\n",
       "count     178.000000  178.000000            178.000000       178.000000   \n",
       "mean        2.295112    2.029270              0.361854         1.590899   \n",
       "std         0.625851    0.998859              0.124453         0.572359   \n",
       "min         0.980000    0.340000              0.130000         0.410000   \n",
       "25%         1.742500    1.205000              0.270000         1.250000   \n",
       "50%         2.355000    2.135000              0.340000         1.555000   \n",
       "75%         2.800000    2.875000              0.437500         1.950000   \n",
       "max         3.880000    5.080000              0.660000         3.580000   \n",
       "\n",
       "       Color_Intensity         Hue       OD280      Proline  Customer_Segment  \n",
       "count       178.000000  178.000000  178.000000   178.000000        178.000000  \n",
       "mean          5.058090    0.957449    2.611685   746.893258          1.938202  \n",
       "std           2.318286    0.228572    0.709990   314.907474          0.775035  \n",
       "min           1.280000    0.480000    1.270000   278.000000          1.000000  \n",
       "25%           3.220000    0.782500    1.937500   500.500000          1.000000  \n",
       "50%           4.690000    0.965000    2.780000   673.500000          2.000000  \n",
       "75%           6.200000    1.120000    3.170000   985.000000          3.000000  \n",
       "max          13.000000    1.710000    4.000000  1680.000000          3.000000  "
      ]
     },
     "execution_count": 7,
     "metadata": {},
     "output_type": "execute_result"
    }
   ],
   "source": [
    "# Get initial statistics\n",
    "df.describe()"
   ]
  },
  {
   "cell_type": "code",
   "execution_count": 8,
   "id": "37185c39",
   "metadata": {},
   "outputs": [
    {
     "data": {
      "text/plain": [
       "Alcohol                 0\n",
       "Malic_Acid              0\n",
       "Ash                     0\n",
       "Ash_Alcanity            0\n",
       "Magnesium               0\n",
       "Total_Phenols           0\n",
       "Flavanoids              0\n",
       "Nonflavanoid_Phenols    0\n",
       "Proanthocyanins         0\n",
       "Color_Intensity         0\n",
       "Hue                     0\n",
       "OD280                   0\n",
       "Proline                 0\n",
       "Customer_Segment        0\n",
       "dtype: int64"
      ]
     },
     "execution_count": 8,
     "metadata": {},
     "output_type": "execute_result"
    }
   ],
   "source": [
    "#Checking For null values\n",
    "df.isnull().sum()"
   ]
  },
  {
   "cell_type": "markdown",
   "id": "bcf22578-887e-4084-ba10-2b3c83f74230",
   "metadata": {},
   "source": [
    "### **Data Preprocessing**"
   ]
  },
  {
   "cell_type": "code",
   "execution_count": 9,
   "id": "e85d8806-aa7a-4a92-9fe5-8d25643d9de4",
   "metadata": {},
   "outputs": [],
   "source": [
    "# Separating features and target variable\n",
    "X = df.drop(columns=['Customer_Segment'])  # Dropping the Target Component for training\n",
    "y = df['Customer_Segment']  # As it is the Target variable (Type of wine)"
   ]
  },
  {
   "cell_type": "code",
   "execution_count": 10,
   "id": "0e441779-2939-4365-aa40-fe48ca8b835c",
   "metadata": {},
   "outputs": [
    {
     "data": {
      "text/html": [
       "<div>\n",
       "<style scoped>\n",
       "    .dataframe tbody tr th:only-of-type {\n",
       "        vertical-align: middle;\n",
       "    }\n",
       "\n",
       "    .dataframe tbody tr th {\n",
       "        vertical-align: top;\n",
       "    }\n",
       "\n",
       "    .dataframe thead th {\n",
       "        text-align: right;\n",
       "    }\n",
       "</style>\n",
       "<table border=\"1\" class=\"dataframe\">\n",
       "  <thead>\n",
       "    <tr style=\"text-align: right;\">\n",
       "      <th></th>\n",
       "      <th>Alcohol</th>\n",
       "      <th>Malic_Acid</th>\n",
       "      <th>Ash</th>\n",
       "      <th>Ash_Alcanity</th>\n",
       "      <th>Magnesium</th>\n",
       "      <th>Total_Phenols</th>\n",
       "      <th>Flavanoids</th>\n",
       "      <th>Nonflavanoid_Phenols</th>\n",
       "      <th>Proanthocyanins</th>\n",
       "      <th>Color_Intensity</th>\n",
       "      <th>Hue</th>\n",
       "      <th>OD280</th>\n",
       "      <th>Proline</th>\n",
       "    </tr>\n",
       "  </thead>\n",
       "  <tbody>\n",
       "    <tr>\n",
       "      <th>0</th>\n",
       "      <td>14.23</td>\n",
       "      <td>1.71</td>\n",
       "      <td>2.43</td>\n",
       "      <td>15.6</td>\n",
       "      <td>127</td>\n",
       "      <td>2.80</td>\n",
       "      <td>3.06</td>\n",
       "      <td>0.28</td>\n",
       "      <td>2.29</td>\n",
       "      <td>5.64</td>\n",
       "      <td>1.04</td>\n",
       "      <td>3.92</td>\n",
       "      <td>1065</td>\n",
       "    </tr>\n",
       "    <tr>\n",
       "      <th>1</th>\n",
       "      <td>13.20</td>\n",
       "      <td>1.78</td>\n",
       "      <td>2.14</td>\n",
       "      <td>11.2</td>\n",
       "      <td>100</td>\n",
       "      <td>2.65</td>\n",
       "      <td>2.76</td>\n",
       "      <td>0.26</td>\n",
       "      <td>1.28</td>\n",
       "      <td>4.38</td>\n",
       "      <td>1.05</td>\n",
       "      <td>3.40</td>\n",
       "      <td>1050</td>\n",
       "    </tr>\n",
       "    <tr>\n",
       "      <th>2</th>\n",
       "      <td>13.16</td>\n",
       "      <td>2.36</td>\n",
       "      <td>2.67</td>\n",
       "      <td>18.6</td>\n",
       "      <td>101</td>\n",
       "      <td>2.80</td>\n",
       "      <td>3.24</td>\n",
       "      <td>0.30</td>\n",
       "      <td>2.81</td>\n",
       "      <td>5.68</td>\n",
       "      <td>1.03</td>\n",
       "      <td>3.17</td>\n",
       "      <td>1185</td>\n",
       "    </tr>\n",
       "    <tr>\n",
       "      <th>3</th>\n",
       "      <td>14.37</td>\n",
       "      <td>1.95</td>\n",
       "      <td>2.50</td>\n",
       "      <td>16.8</td>\n",
       "      <td>113</td>\n",
       "      <td>3.85</td>\n",
       "      <td>3.49</td>\n",
       "      <td>0.24</td>\n",
       "      <td>2.18</td>\n",
       "      <td>7.80</td>\n",
       "      <td>0.86</td>\n",
       "      <td>3.45</td>\n",
       "      <td>1480</td>\n",
       "    </tr>\n",
       "    <tr>\n",
       "      <th>4</th>\n",
       "      <td>13.24</td>\n",
       "      <td>2.59</td>\n",
       "      <td>2.87</td>\n",
       "      <td>21.0</td>\n",
       "      <td>118</td>\n",
       "      <td>2.80</td>\n",
       "      <td>2.69</td>\n",
       "      <td>0.39</td>\n",
       "      <td>1.82</td>\n",
       "      <td>4.32</td>\n",
       "      <td>1.04</td>\n",
       "      <td>2.93</td>\n",
       "      <td>735</td>\n",
       "    </tr>\n",
       "    <tr>\n",
       "      <th>...</th>\n",
       "      <td>...</td>\n",
       "      <td>...</td>\n",
       "      <td>...</td>\n",
       "      <td>...</td>\n",
       "      <td>...</td>\n",
       "      <td>...</td>\n",
       "      <td>...</td>\n",
       "      <td>...</td>\n",
       "      <td>...</td>\n",
       "      <td>...</td>\n",
       "      <td>...</td>\n",
       "      <td>...</td>\n",
       "      <td>...</td>\n",
       "    </tr>\n",
       "    <tr>\n",
       "      <th>173</th>\n",
       "      <td>13.71</td>\n",
       "      <td>5.65</td>\n",
       "      <td>2.45</td>\n",
       "      <td>20.5</td>\n",
       "      <td>95</td>\n",
       "      <td>1.68</td>\n",
       "      <td>0.61</td>\n",
       "      <td>0.52</td>\n",
       "      <td>1.06</td>\n",
       "      <td>7.70</td>\n",
       "      <td>0.64</td>\n",
       "      <td>1.74</td>\n",
       "      <td>740</td>\n",
       "    </tr>\n",
       "    <tr>\n",
       "      <th>174</th>\n",
       "      <td>13.40</td>\n",
       "      <td>3.91</td>\n",
       "      <td>2.48</td>\n",
       "      <td>23.0</td>\n",
       "      <td>102</td>\n",
       "      <td>1.80</td>\n",
       "      <td>0.75</td>\n",
       "      <td>0.43</td>\n",
       "      <td>1.41</td>\n",
       "      <td>7.30</td>\n",
       "      <td>0.70</td>\n",
       "      <td>1.56</td>\n",
       "      <td>750</td>\n",
       "    </tr>\n",
       "    <tr>\n",
       "      <th>175</th>\n",
       "      <td>13.27</td>\n",
       "      <td>4.28</td>\n",
       "      <td>2.26</td>\n",
       "      <td>20.0</td>\n",
       "      <td>120</td>\n",
       "      <td>1.59</td>\n",
       "      <td>0.69</td>\n",
       "      <td>0.43</td>\n",
       "      <td>1.35</td>\n",
       "      <td>10.20</td>\n",
       "      <td>0.59</td>\n",
       "      <td>1.56</td>\n",
       "      <td>835</td>\n",
       "    </tr>\n",
       "    <tr>\n",
       "      <th>176</th>\n",
       "      <td>13.17</td>\n",
       "      <td>2.59</td>\n",
       "      <td>2.37</td>\n",
       "      <td>20.0</td>\n",
       "      <td>120</td>\n",
       "      <td>1.65</td>\n",
       "      <td>0.68</td>\n",
       "      <td>0.53</td>\n",
       "      <td>1.46</td>\n",
       "      <td>9.30</td>\n",
       "      <td>0.60</td>\n",
       "      <td>1.62</td>\n",
       "      <td>840</td>\n",
       "    </tr>\n",
       "    <tr>\n",
       "      <th>177</th>\n",
       "      <td>14.13</td>\n",
       "      <td>4.10</td>\n",
       "      <td>2.74</td>\n",
       "      <td>24.5</td>\n",
       "      <td>96</td>\n",
       "      <td>2.05</td>\n",
       "      <td>0.76</td>\n",
       "      <td>0.56</td>\n",
       "      <td>1.35</td>\n",
       "      <td>9.20</td>\n",
       "      <td>0.61</td>\n",
       "      <td>1.60</td>\n",
       "      <td>560</td>\n",
       "    </tr>\n",
       "  </tbody>\n",
       "</table>\n",
       "<p>178 rows × 13 columns</p>\n",
       "</div>"
      ],
      "text/plain": [
       "     Alcohol  Malic_Acid   Ash  Ash_Alcanity  Magnesium  Total_Phenols  \\\n",
       "0      14.23        1.71  2.43          15.6        127           2.80   \n",
       "1      13.20        1.78  2.14          11.2        100           2.65   \n",
       "2      13.16        2.36  2.67          18.6        101           2.80   \n",
       "3      14.37        1.95  2.50          16.8        113           3.85   \n",
       "4      13.24        2.59  2.87          21.0        118           2.80   \n",
       "..       ...         ...   ...           ...        ...            ...   \n",
       "173    13.71        5.65  2.45          20.5         95           1.68   \n",
       "174    13.40        3.91  2.48          23.0        102           1.80   \n",
       "175    13.27        4.28  2.26          20.0        120           1.59   \n",
       "176    13.17        2.59  2.37          20.0        120           1.65   \n",
       "177    14.13        4.10  2.74          24.5         96           2.05   \n",
       "\n",
       "     Flavanoids  Nonflavanoid_Phenols  Proanthocyanins  Color_Intensity   Hue  \\\n",
       "0          3.06                  0.28             2.29             5.64  1.04   \n",
       "1          2.76                  0.26             1.28             4.38  1.05   \n",
       "2          3.24                  0.30             2.81             5.68  1.03   \n",
       "3          3.49                  0.24             2.18             7.80  0.86   \n",
       "4          2.69                  0.39             1.82             4.32  1.04   \n",
       "..          ...                   ...              ...              ...   ...   \n",
       "173        0.61                  0.52             1.06             7.70  0.64   \n",
       "174        0.75                  0.43             1.41             7.30  0.70   \n",
       "175        0.69                  0.43             1.35            10.20  0.59   \n",
       "176        0.68                  0.53             1.46             9.30  0.60   \n",
       "177        0.76                  0.56             1.35             9.20  0.61   \n",
       "\n",
       "     OD280  Proline  \n",
       "0     3.92     1065  \n",
       "1     3.40     1050  \n",
       "2     3.17     1185  \n",
       "3     3.45     1480  \n",
       "4     2.93      735  \n",
       "..     ...      ...  \n",
       "173   1.74      740  \n",
       "174   1.56      750  \n",
       "175   1.56      835  \n",
       "176   1.62      840  \n",
       "177   1.60      560  \n",
       "\n",
       "[178 rows x 13 columns]"
      ]
     },
     "execution_count": 10,
     "metadata": {},
     "output_type": "execute_result"
    }
   ],
   "source": [
    "X"
   ]
  },
  {
   "cell_type": "code",
   "execution_count": 11,
   "id": "a375e8ec-09f9-422b-a449-bd34cdcad014",
   "metadata": {},
   "outputs": [
    {
     "data": {
      "text/plain": [
       "0      1\n",
       "1      1\n",
       "2      1\n",
       "3      1\n",
       "4      1\n",
       "      ..\n",
       "173    3\n",
       "174    3\n",
       "175    3\n",
       "176    3\n",
       "177    3\n",
       "Name: Customer_Segment, Length: 178, dtype: int64"
      ]
     },
     "execution_count": 11,
     "metadata": {},
     "output_type": "execute_result"
    }
   ],
   "source": [
    "y"
   ]
  },
  {
   "cell_type": "code",
   "execution_count": 12,
   "id": "594a29a9-864d-43d0-abfd-cc06c47ee2ef",
   "metadata": {},
   "outputs": [],
   "source": [
    "#Scaling the data using Standard Scalar\n",
    "\n",
    "from sklearn.preprocessing import StandardScaler\n",
    "scaler = StandardScaler()\n",
    "X_scaled = scaler.fit_transform(X)"
   ]
  },
  {
   "cell_type": "markdown",
   "id": "9eccaf86-3156-4375-a5ca-9581564c2a25",
   "metadata": {},
   "source": [
    "### **PCA Algorithm Implementation**"
   ]
  },
  {
   "cell_type": "code",
   "execution_count": 13,
   "id": "6f4f5fe4-68a8-4931-8d81-3529e9ace773",
   "metadata": {},
   "outputs": [],
   "source": [
    "#Appling PCA with 2 components\n",
    "from sklearn.decomposition import PCA\n",
    "\n",
    "pca = PCA(n_components=2)\n",
    "X_pca = pca.fit_transform(X_scaled)"
   ]
  },
  {
   "cell_type": "code",
   "execution_count": 14,
   "id": "e9593e4f-730f-441c-8939-0cf06d9d1587",
   "metadata": {},
   "outputs": [],
   "source": [
    "# Creating a new DataFrame with the first two principal components\n",
    "pca_df = pd.DataFrame(data=X_pca, columns=['Principal Component 1', 'Principal Component 2'])\n",
    "pca_df['Customer_Segment'] = y"
   ]
  },
  {
   "cell_type": "code",
   "execution_count": 15,
   "id": "86db4fbc-4b82-4ddf-8885-059cf7aae198",
   "metadata": {},
   "outputs": [
    {
     "data": {
      "text/html": [
       "<div>\n",
       "<style scoped>\n",
       "    .dataframe tbody tr th:only-of-type {\n",
       "        vertical-align: middle;\n",
       "    }\n",
       "\n",
       "    .dataframe tbody tr th {\n",
       "        vertical-align: top;\n",
       "    }\n",
       "\n",
       "    .dataframe thead th {\n",
       "        text-align: right;\n",
       "    }\n",
       "</style>\n",
       "<table border=\"1\" class=\"dataframe\">\n",
       "  <thead>\n",
       "    <tr style=\"text-align: right;\">\n",
       "      <th></th>\n",
       "      <th>Principal Component 1</th>\n",
       "      <th>Principal Component 2</th>\n",
       "      <th>Customer_Segment</th>\n",
       "    </tr>\n",
       "  </thead>\n",
       "  <tbody>\n",
       "    <tr>\n",
       "      <th>0</th>\n",
       "      <td>3.316751</td>\n",
       "      <td>-1.443463</td>\n",
       "      <td>1</td>\n",
       "    </tr>\n",
       "    <tr>\n",
       "      <th>1</th>\n",
       "      <td>2.209465</td>\n",
       "      <td>0.333393</td>\n",
       "      <td>1</td>\n",
       "    </tr>\n",
       "    <tr>\n",
       "      <th>2</th>\n",
       "      <td>2.516740</td>\n",
       "      <td>-1.031151</td>\n",
       "      <td>1</td>\n",
       "    </tr>\n",
       "    <tr>\n",
       "      <th>3</th>\n",
       "      <td>3.757066</td>\n",
       "      <td>-2.756372</td>\n",
       "      <td>1</td>\n",
       "    </tr>\n",
       "    <tr>\n",
       "      <th>4</th>\n",
       "      <td>1.008908</td>\n",
       "      <td>-0.869831</td>\n",
       "      <td>1</td>\n",
       "    </tr>\n",
       "    <tr>\n",
       "      <th>...</th>\n",
       "      <td>...</td>\n",
       "      <td>...</td>\n",
       "      <td>...</td>\n",
       "    </tr>\n",
       "    <tr>\n",
       "      <th>173</th>\n",
       "      <td>-3.370524</td>\n",
       "      <td>-2.216289</td>\n",
       "      <td>3</td>\n",
       "    </tr>\n",
       "    <tr>\n",
       "      <th>174</th>\n",
       "      <td>-2.601956</td>\n",
       "      <td>-1.757229</td>\n",
       "      <td>3</td>\n",
       "    </tr>\n",
       "    <tr>\n",
       "      <th>175</th>\n",
       "      <td>-2.677839</td>\n",
       "      <td>-2.760899</td>\n",
       "      <td>3</td>\n",
       "    </tr>\n",
       "    <tr>\n",
       "      <th>176</th>\n",
       "      <td>-2.387017</td>\n",
       "      <td>-2.297347</td>\n",
       "      <td>3</td>\n",
       "    </tr>\n",
       "    <tr>\n",
       "      <th>177</th>\n",
       "      <td>-3.208758</td>\n",
       "      <td>-2.768920</td>\n",
       "      <td>3</td>\n",
       "    </tr>\n",
       "  </tbody>\n",
       "</table>\n",
       "<p>178 rows × 3 columns</p>\n",
       "</div>"
      ],
      "text/plain": [
       "     Principal Component 1  Principal Component 2  Customer_Segment\n",
       "0                 3.316751              -1.443463                 1\n",
       "1                 2.209465               0.333393                 1\n",
       "2                 2.516740              -1.031151                 1\n",
       "3                 3.757066              -2.756372                 1\n",
       "4                 1.008908              -0.869831                 1\n",
       "..                     ...                    ...               ...\n",
       "173              -3.370524              -2.216289                 3\n",
       "174              -2.601956              -1.757229                 3\n",
       "175              -2.677839              -2.760899                 3\n",
       "176              -2.387017              -2.297347                 3\n",
       "177              -3.208758              -2.768920                 3\n",
       "\n",
       "[178 rows x 3 columns]"
      ]
     },
     "execution_count": 15,
     "metadata": {},
     "output_type": "execute_result"
    }
   ],
   "source": [
    "pca_df"
   ]
  },
  {
   "cell_type": "markdown",
   "id": "1ed12c81-cde0-4507-96d4-bffad8d68530",
   "metadata": {},
   "source": [
    "### **Visualization and Comparison**"
   ]
  },
  {
   "cell_type": "markdown",
   "id": "600efd18-1874-466d-9f51-8cced44d8a4f",
   "metadata": {},
   "source": [
    "#### _Before applying PCA (Original Data)_"
   ]
  },
  {
   "cell_type": "code",
   "execution_count": 16,
   "id": "f0479db3-1ce7-4e8d-9d3f-0f9fec166fa3",
   "metadata": {},
   "outputs": [
    {
     "data": {
      "image/png": "[encoded data removed]",
      "text/plain": [
       "<Figure size 1500x600 with 1 Axes>"
      ]
     },
     "metadata": {},
     "output_type": "display_data"
    }
   ],
   "source": [
    "plt.figure(figsize=(15, 6))\n",
    "colors = {1: 'blue', 2: 'red', 3: 'green'}\n",
    "\n",
    "# Scatter plot for Customer Segment 1\n",
    "plt.scatter(\n",
    "    X[y == 1]['Alcohol'],\n",
    "    X[y == 1]['Malic_Acid'],\n",
    "    color = colors[1], \n",
    "    label = 'Customer Segment 1',\n",
    "    alpha = 0.7\n",
    ")\n",
    "\n",
    "# Scatter plot for Customer Segment 2\n",
    "plt.scatter(\n",
    "    X[y == 2]['Alcohol'],\n",
    "    X[y == 2]['Malic_Acid'],\n",
    "    color = colors[2], \n",
    "    label = 'Customer Segment 2',\n",
    "    alpha = 0.7\n",
    ")\n",
    "\n",
    "# Scatter plot for Customer Segment 3\n",
    "plt.scatter(\n",
    "    X[y == 3]['Alcohol'],\n",
    "    X[y == 3]['Malic_Acid'],\n",
    "    color = colors[3],  \n",
    "    label = 'Customer Segment 3',\n",
    "    alpha = 0.7\n",
    ")\n",
    "\n",
    "# Set labels and title\n",
    "plt.xlabel('Alcohol')\n",
    "plt.ylabel('Malic Acid')\n",
    "plt.legend()\n",
    "plt.title('Scatter Plot (Original Data)')\n",
    "plt.show()\n"
   ]
  },
  {
   "cell_type": "markdown",
   "id": "7459b01c-3fce-45a9-9cc1-06ca8388487d",
   "metadata": {},
   "source": [
    "#### _After applying PCA (Transformed Data)_"
   ]
  },
  {
   "cell_type": "code",
   "execution_count": 17,
   "id": "7c22433e-2e0a-466b-a2af-1ccb55217ee5",
   "metadata": {},
   "outputs": [
    {
     "data": {
      "image/png": "[encoded data removed]",
      "text/plain": [
       "<Figure size 1500x600 with 1 Axes>"
      ]
     },
     "metadata": {},
     "output_type": "display_data"
    }
   ],
   "source": [
    "plt.figure(figsize=(15, 6))\n",
    "colors = {1: 'blue', 2: 'red', 3: 'green'}\n",
    "\n",
    "# Scatter plot for Customer Segment 1\n",
    "plt.scatter(\n",
    "    pca_df[pca_df['Customer_Segment'] == 1]['Principal Component 1'],\n",
    "    pca_df[pca_df['Customer_Segment'] == 1]['Principal Component 2'],\n",
    "    color = colors[1],  # Set color for segment 1\n",
    "    label = 'Customer Segment 1',\n",
    "    alpha = 0.7\n",
    ")\n",
    "\n",
    "# Scatter plot for Customer Segment 2\n",
    "plt.scatter(\n",
    "    pca_df[pca_df['Customer_Segment'] == 2]['Principal Component 1'],\n",
    "    pca_df[pca_df['Customer_Segment'] == 2]['Principal Component 2'],\n",
    "    color = colors[2],  # Set color for segment 2\n",
    "    label = 'Customer Segment 2',\n",
    "    alpha = 0.7\n",
    ")\n",
    "\n",
    "# Scatter plot for Customer Segment 3\n",
    "plt.scatter(\n",
    "    pca_df[pca_df['Customer_Segment'] == 3]['Principal Component 1'],\n",
    "    pca_df[pca_df['Customer_Segment'] == 3]['Principal Component 2'],\n",
    "    color = colors[3],  # Set color for segment 3\n",
    "    label = 'Customer Segment 3',\n",
    "    alpha = 0.7\n",
    ")\n",
    "\n",
    "\n",
    "plt.xlabel('Principal Component 1')\n",
    "plt.ylabel('Principal Component 2')\n",
    "plt.legend()\n",
    "plt.title('PCA: Wine Dataset')\n",
    "plt.show()\n"
   ]
  },
  {
   "cell_type": "markdown",
   "id": "237c0f97-9958-4ecc-b179-efd5d2cb51a4",
   "metadata": {},
   "source": [
    "### **PCA with 3 Principal Components**"
   ]
  },
  {
   "cell_type": "code",
   "execution_count": 18,
   "id": "46b0b959-9ffd-4ea5-ab67-91be1a94211c",
   "metadata": {},
   "outputs": [],
   "source": [
    "pca_new = PCA(n_components=3)\n",
    "X_pca_new = pca_new.fit_transform(X_scaled)"
   ]
  },
  {
   "cell_type": "code",
   "execution_count": 19,
   "id": "310a9f87-25fa-4b4e-b88e-a3521ff03cae",
   "metadata": {},
   "outputs": [],
   "source": [
    "# Creating a new DataFrame with the principal components\n",
    "pca_df_new = pd.DataFrame(data = X_pca_new, columns = ['Principal Component 1', 'Principal Component 2', 'Principal Component 3'])\n",
    "pca_df_new['Customer_Segment'] = y"
   ]
  },
  {
   "cell_type": "code",
   "execution_count": 20,
   "id": "5ed8dfc7-e11b-406f-b671-cfd4c936a6d9",
   "metadata": {},
   "outputs": [
    {
     "data": {
      "text/html": [
       "<div>\n",
       "<style scoped>\n",
       "    .dataframe tbody tr th:only-of-type {\n",
       "        vertical-align: middle;\n",
       "    }\n",
       "\n",
       "    .dataframe tbody tr th {\n",
       "        vertical-align: top;\n",
       "    }\n",
       "\n",
       "    .dataframe thead th {\n",
       "        text-align: right;\n",
       "    }\n",
       "</style>\n",
       "<table border=\"1\" class=\"dataframe\">\n",
       "  <thead>\n",
       "    <tr style=\"text-align: right;\">\n",
       "      <th></th>\n",
       "      <th>Principal Component 1</th>\n",
       "      <th>Principal Component 2</th>\n",
       "      <th>Principal Component 3</th>\n",
       "      <th>Customer_Segment</th>\n",
       "    </tr>\n",
       "  </thead>\n",
       "  <tbody>\n",
       "    <tr>\n",
       "      <th>0</th>\n",
       "      <td>3.316751</td>\n",
       "      <td>-1.443463</td>\n",
       "      <td>-0.165739</td>\n",
       "      <td>1</td>\n",
       "    </tr>\n",
       "    <tr>\n",
       "      <th>1</th>\n",
       "      <td>2.209465</td>\n",
       "      <td>0.333393</td>\n",
       "      <td>-2.026457</td>\n",
       "      <td>1</td>\n",
       "    </tr>\n",
       "    <tr>\n",
       "      <th>2</th>\n",
       "      <td>2.516740</td>\n",
       "      <td>-1.031151</td>\n",
       "      <td>0.982819</td>\n",
       "      <td>1</td>\n",
       "    </tr>\n",
       "    <tr>\n",
       "      <th>3</th>\n",
       "      <td>3.757066</td>\n",
       "      <td>-2.756372</td>\n",
       "      <td>-0.176192</td>\n",
       "      <td>1</td>\n",
       "    </tr>\n",
       "    <tr>\n",
       "      <th>4</th>\n",
       "      <td>1.008908</td>\n",
       "      <td>-0.869831</td>\n",
       "      <td>2.026688</td>\n",
       "      <td>1</td>\n",
       "    </tr>\n",
       "    <tr>\n",
       "      <th>...</th>\n",
       "      <td>...</td>\n",
       "      <td>...</td>\n",
       "      <td>...</td>\n",
       "      <td>...</td>\n",
       "    </tr>\n",
       "    <tr>\n",
       "      <th>173</th>\n",
       "      <td>-3.370524</td>\n",
       "      <td>-2.216289</td>\n",
       "      <td>-0.342570</td>\n",
       "      <td>3</td>\n",
       "    </tr>\n",
       "    <tr>\n",
       "      <th>174</th>\n",
       "      <td>-2.601956</td>\n",
       "      <td>-1.757229</td>\n",
       "      <td>0.207581</td>\n",
       "      <td>3</td>\n",
       "    </tr>\n",
       "    <tr>\n",
       "      <th>175</th>\n",
       "      <td>-2.677839</td>\n",
       "      <td>-2.760899</td>\n",
       "      <td>-0.940942</td>\n",
       "      <td>3</td>\n",
       "    </tr>\n",
       "    <tr>\n",
       "      <th>176</th>\n",
       "      <td>-2.387017</td>\n",
       "      <td>-2.297347</td>\n",
       "      <td>-0.550696</td>\n",
       "      <td>3</td>\n",
       "    </tr>\n",
       "    <tr>\n",
       "      <th>177</th>\n",
       "      <td>-3.208758</td>\n",
       "      <td>-2.768920</td>\n",
       "      <td>1.013914</td>\n",
       "      <td>3</td>\n",
       "    </tr>\n",
       "  </tbody>\n",
       "</table>\n",
       "<p>178 rows × 4 columns</p>\n",
       "</div>"
      ],
      "text/plain": [
       "     Principal Component 1  Principal Component 2  Principal Component 3  \\\n",
       "0                 3.316751              -1.443463              -0.165739   \n",
       "1                 2.209465               0.333393              -2.026457   \n",
       "2                 2.516740              -1.031151               0.982819   \n",
       "3                 3.757066              -2.756372              -0.176192   \n",
       "4                 1.008908              -0.869831               2.026688   \n",
       "..                     ...                    ...                    ...   \n",
       "173              -3.370524              -2.216289              -0.342570   \n",
       "174              -2.601956              -1.757229               0.207581   \n",
       "175              -2.677839              -2.760899              -0.940942   \n",
       "176              -2.387017              -2.297347              -0.550696   \n",
       "177              -3.208758              -2.768920               1.013914   \n",
       "\n",
       "     Customer_Segment  \n",
       "0                   1  \n",
       "1                   1  \n",
       "2                   1  \n",
       "3                   1  \n",
       "4                   1  \n",
       "..                ...  \n",
       "173                 3  \n",
       "174                 3  \n",
       "175                 3  \n",
       "176                 3  \n",
       "177                 3  \n",
       "\n",
       "[178 rows x 4 columns]"
      ]
     },
     "execution_count": 20,
     "metadata": {},
     "output_type": "execute_result"
    }
   ],
   "source": [
    "pca_df_new"
   ]
  },
  {
   "cell_type": "code",
   "execution_count": 23,
   "id": "71f94abe-11e2-45f5-9bf2-85c97580f00d",
   "metadata": {},
   "outputs": [
    {
     "data": {
      "application/vnd.plotly.v1+json": {
       "config": {
        "plotlyServerURL": "https://plot.ly"
       },
       "data": [
        {
         "marker": {
          "opacity": 0.7,
          "size": 5
         },
         "mode": "markers",
         "name": "Customer Segment 1",
         "type": "scatter3d",
         "x": [
          3.3167508122147793,
          2.2094649169188503,
          2.5167401466103825,
          3.7570656097732025,
          1.0089084937957147,
          3.050253922418076,
          2.4490896695962325,
          2.059436871437915,
          2.5108742973989897,
          2.7536281876339097,
          3.4797366827312124,
          1.75475290129459,
          2.1134623403150967,
          3.458156819336722,
          4.312783906765562,
          2.3051882008279727,
          2.1719552737415126,
          1.898971176562761,
          3.541985081943469,
          2.084522204730313,
          3.124402535167201,
          1.086570068332239,
          2.5352240799037156,
          1.6449883412544708,
          1.7615758722693016,
          0.9900791016088568,
          1.7752776281133689,
          1.2354239643099068,
          2.188406334451963,
          2.2561089812837087,
          2.5002200257894267,
          2.677411047444015,
          1.6285791164309198,
          1.9026908622381489,
          1.4103885265954075,
          1.9038262321944877,
          1.3848622303748401,
          1.1222074104413111,
          1.502194500618193,
          2.5298010923718093,
          2.5880954258544033,
          0.6684819937541856,
          3.070806990412008,
          0.4622091375160059,
          2.101351930538016,
          1.1361661775610168,
          2.726600963640803,
          2.82133927419225,
          2.0098508509123585,
          2.707491304266394,
          3.214917474773823,
          2.858959826717295,
          3.5056043559232224,
          2.2247913805321735,
          2.146987823563867,
          2.4693294837977886,
          2.7415179142774537,
          2.1737409209653076,
          3.139380151828996
         ],
         "y": [
          -1.443462634318013,
          0.33339288708029924,
          -1.0311512962743195,
          -2.7563719137107143,
          -0.8698308214172044,
          -2.1224011146341946,
          -1.1748501316494764,
          -1.6089630683635103,
          -0.918070957333781,
          -0.789437673833609,
          -1.3023332371235974,
          -0.6119772287456334,
          -0.6757063391426205,
          -1.1306298761729412,
          -2.095975575341266,
          -1.662551729989058,
          -2.327305336191422,
          -1.6313688786428395,
          -2.5183436693066494,
          -1.0611379935838625,
          -0.7868971056508977,
          -0.24174355133283995,
          0.09184062072087927,
          0.5162789300672354,
          0.3171489326843805,
          -0.9406673381906333,
          -0.6861751342850242,
          0.08980704136063912,
          -0.6895696206616262,
          -0.1914619368866672,
          -1.240833834896944,
          -1.4718736461032502,
          -0.052704450575324385,
          -1.6330604347699849,
          -0.6979343246113575,
          -0.17671095109545715,
          -0.6586398536611494,
          -0.11410976029688823,
          0.7694320064310082,
          -1.8030019760618319,
          -0.7796163041925093,
          -0.16996094061987652,
          -1.1559189566098853,
          -0.3307421321922759,
          0.07100892095406615,
          -1.7771073929776402,
          -1.1913346919571877,
          -0.6462585991417057,
          -1.2470294606787622,
          -1.7519674072063396,
          -0.166991994996792,
          -0.7452788039895899,
          -1.6127338560350135,
          -1.8751679995630264,
          -1.0167515377576617,
          -1.3290083106496235,
          -1.4365487835125175,
          -1.212199840697795,
          -1.7315791159925145
         ],
         "z": [
          -0.16573904461441877,
          -2.0264573738075358,
          0.9828186702120589,
          -0.17619184219949197,
          2.0266882192354068,
          -0.6293958270439122,
          -0.9770948907141944,
          0.14628188306156026,
          -1.7709690272289407,
          -0.9842474895182355,
          -0.4227352165808458,
          -1.1908783196301724,
          -0.8650864256166532,
          -1.2042763525381894,
          -1.2639127523579987,
          0.21790261559595908,
          0.8317298659860085,
          0.7949137923810702,
          -0.4854585076662915,
          -0.16474667849947414,
          -0.36488708298884587,
          0.9369615996106438,
          -0.311932659347969,
          0.14388509467079563,
          0.8902856474056895,
          3.8209080081948366,
          -0.08670040648876257,
          -1.3868965448964348,
          1.3945668808503602,
          -1.0926572575082922,
          1.386017854715679,
          -0.33226172837509294,
          -0.16712870624533335,
          1.1720821191753459,
          0.4797430251686625,
          0.4508350400372087,
          0.45843858085206257,
          -0.03910727668974843,
          -1.42617734589046,
          -0.3431523889796911,
          -0.11847746611373691,
          -0.7833625480611448,
          -0.3127580839341539,
          -0.2014764962567723,
          -0.6558494150434352,
          0.0287057357847526,
          -0.5397732611476722,
          -1.155552410727407,
          -0.05729398793992213,
          -0.643113612000794,
          -1.9735716799013732,
          0.004719502164698044,
          -0.5207745300761748,
          0.33954985035420965,
          -0.9577627619503268,
          0.5134374530359693,
          -0.6124733957169585,
          0.26177959277079044,
          -0.28566141261644956
         ]
        },
        {
         "marker": {
          "opacity": 0.7,
          "size": 5
         },
         "mode": "markers",
         "name": "Customer Segment 2",
         "type": "scatter3d",
         "x": [
          -0.9285819689218537,
          -1.5424801378968795,
          -1.83624976346694,
          0.03060683408668104,
          2.050261607576317,
          -0.6096808271776213,
          0.9002278387071442,
          2.248507190798395,
          0.1833840266847567,
          -0.8128050273520703,
          1.9756204987985555,
          -1.5722162196262988,
          1.6576818088332903,
          -0.7253723880353555,
          2.5622271731703625,
          1.8325675700495483,
          -0.8679929031954122,
          0.3700144042947841,
          -1.457377044906139,
          1.2629308497284988,
          0.3761503719342399,
          0.7620639041096002,
          1.0345779671651876,
          -0.49487675568032624,
          -2.5389770842951225,
          0.8353201453942988,
          0.7879046149897109,
          -0.8068321559655374,
          -0.5580426248756815,
          -1.115111041919446,
          -0.5557228299517003,
          -1.3492852824437302,
          -1.5644826057199048,
          -1.9325556106314632,
          0.7466659419884499,
          0.957455363803641,
          2.543865184199553,
          -0.5439525887762282,
          1.0310497503881495,
          2.2519094221481257,
          1.4102160153374597,
          0.7977197926930414,
          -0.5495317266494633,
          -0.16117373994854556,
          -0.6597949416843597,
          0.3923544081850837,
          -1.772499077960035,
          -0.36626735735206384,
          -1.620672572787479,
          0.08253578349332853,
          1.5782750709323825,
          1.4205692478240148,
          -0.2787027536488548,
          -1.3031449662482797,
          -0.4570718656526238,
          -0.49418584704437446,
          0.48207440977309407,
          -0.25288887765319895,
          -0.10722763772912279,
          -2.433012602550219,
          -0.5510895391746504,
          0.739621928568221,
          1.3363217334183295,
          -1.177086996247774,
          -0.46233500801968264,
          0.9784740793566468,
          -0.09680972631598556,
          0.03848714594902509,
          -1.5971585012074716,
          -0.47956491608312496,
          -1.792833473031145
         ],
         "y": [
          3.073486163188928,
          1.3814435080942304,
          0.8299841230557182,
          1.2627861442114008,
          1.9250326046501014,
          1.90805880508519,
          0.7639114736096105,
          1.8845924845501323,
          2.4271461147035724,
          0.22051398690226928,
          1.4032832253096152,
          0.8849831369082242,
          0.9567121974591479,
          1.063645400706094,
          -0.2601985506545964,
          1.2878781978605265,
          2.444101185580866,
          2.1539069751569873,
          1.3833517690762616,
          0.7708495299701182,
          1.027043403355823,
          3.375053809963536,
          1.450709738244092,
          2.3812435267673724,
          0.08744335730498247,
          1.4736705514008699,
          2.026626522462478,
          2.2338303908439134,
          2.372985428849459,
          1.802247191665457,
          2.6575400353922953,
          2.11800146978482,
          1.8522145217655537,
          1.559495456898623,
          2.3129317092207407,
          2.2235284346674624,
          -0.16927402279973985,
          0.3689265458773194,
          2.565569348733524,
          1.4327413803542552,
          2.166191769370385,
          2.3769488030818624,
          2.293128643245627,
          1.1644833215600174,
          2.679961185989637,
          2.0987317087655373,
          1.7172884693761445,
          2.1693532978292844,
          1.3555833880259585,
          2.3062345877483263,
          1.4620342902048193,
          1.4182066376337517,
          1.9305680886704686,
          0.7631723136577948,
          2.2694156075896776,
          1.939045049486834,
          3.871783848407242,
          2.8214923747015943,
          1.9289220425669602,
          1.2571410404943932,
          2.2221615507766233,
          1.4089566673657148,
          -0.2533369311683021,
          0.6639668398015728,
          0.6182881794850409,
          1.4455704988958282,
          2.109997993135227,
          1.2667621091578862,
          1.2081435741284887,
          1.9388406603940498,
          1.1502881044421067
         ],
         "z": [
          -4.585064007148204,
          -0.8746831124458081,
          -1.6057021863206185,
          -1.7844080104188533,
          -0.007368777349818068,
          0.6793579379775357,
          0.5733613020971906,
          -2.031840192867586,
          -1.0697455602477968,
          -0.7070053958009658,
          -1.2382762196848653,
          -0.628997950231594,
          1.9525842166061982,
          0.08033222861543787,
          3.374393962239755,
          0.45828002739955714,
          -1.5633331789503786,
          -2.4493863483037375,
          -0.22730690232730547,
          -1.184224517375243,
          1.7944662945426577,
          -0.35747005553946487,
          -0.36301177316396077,
          1.3357431762848653,
          0.47425139276914713,
          0.6100935756921047,
          -0.2547234039695498,
          0.7728557971982644,
          2.3076114040120026,
          0.9592533076886531,
          0.8491268977432251,
          -0.04765232084869249,
          0.7810670309346309,
          -0.08927467610867838,
          0.114679768745415,
          0.1424447736987244,
          0.7886969907454745,
          1.308895931856858,
          -1.0863901738177395,
          -0.23020824379781563,
          0.7488964107708779,
          -1.5681125312755264,
          -1.4989353232010767,
          1.003713102837355,
          -0.7649208684795149,
          -0.4718500076097382,
          0.9470331744608645,
          -0.4813242347422906,
          0.2871590006956164,
          -0.4635749893739552,
          1.7796459547332812,
          0.13927582948818856,
          0.07867055304723337,
          1.9995965104868538,
          1.061338967592664,
          1.3239380723766918,
          1.3442712233930707,
          -0.3026397845306407,
          0.690148242507511,
          -1.903027404411349,
          -0.3562288302125361,
          1.1253454920042338,
          5.34538817919574,
          3.0102218879464275,
          0.48344236634418,
          1.4812369749959438,
          0.4348261156167872,
          0.6875779128728073,
          3.3611755553864255,
          1.2965075188296686,
          0.7828001731822637
         ]
        },
        {
         "marker": {
          "opacity": 0.7,
          "size": 5
         },
         "mode": "markers",
         "name": "Customer Segment 3",
         "type": "scatter3d",
         "x": [
          -1.3271016561416014,
          -2.384500834743531,
          -2.9369401021466137,
          -2.1468111338160654,
          -2.369869488333043,
          -3.0638415687203557,
          -3.9157537837118914,
          -3.9364633907159656,
          -3.094276117762277,
          -2.374471628006924,
          -2.778812947632514,
          -2.2865612847384695,
          -2.9856334874494665,
          -2.3751946982271104,
          -2.2098655255958732,
          -2.6256210046927224,
          -4.280638778751089,
          -3.5826413720011074,
          -2.807063720081661,
          -2.8996593330239127,
          -2.320736976549206,
          -2.549830947226138,
          -1.8125412848422993,
          -2.7601446419239526,
          -2.7371505006679913,
          -3.6048688681834276,
          -2.8898259968735096,
          -3.3921560768357226,
          -1.0481818968536798,
          -1.6099122828479373,
          -3.1431309667439775,
          -2.2401568962695437,
          -2.847673776119522,
          -2.5974970566487654,
          -2.9492993731348456,
          -3.530032266349314,
          -2.406110540478555,
          -2.929084726967458,
          -2.1814127788126223,
          -2.3809277871356422,
          -3.211617215041249,
          -3.6779187209738184,
          -2.4655557980404508,
          -3.3705241454428645,
          -2.6019558512247394,
          -2.6778394608645053,
          -2.3870170912797204,
          -3.2087581641980245
         ],
         "y": [
          -0.17038923204902734,
          -0.37458260552469297,
          -0.2638618300683794,
          -0.3682549518864607,
          0.4596348092311676,
          -0.353412835458402,
          -0.15458251944173051,
          -0.6596872334097811,
          -0.34884275927379665,
          -0.2919803515599933,
          -0.2868048728821731,
          -0.3725078446852991,
          -0.4892179083470122,
          -0.48233371724487933,
          -1.1600525041576424,
          -0.5631607642108345,
          -0.6496709640237073,
          -1.272702749727301,
          -1.5705337870411977,
          -2.041057007938464,
          -2.356366075556675,
          -2.0452830910195234,
          -1.5276459462687504,
          -2.138932347642612,
          -0.4098862708817896,
          -1.802384217583967,
          -1.9252186131303441,
          -1.311876388473594,
          -3.5150896912197327,
          -2.4066381595743285,
          -0.7381610441757964,
          -1.1754652881188652,
          -0.5560439658826731,
          -0.697965537200919,
          -1.5553089642839848,
          -0.8825267962042368,
          -2.5923561750423985,
          -1.2744469479044822,
          -2.0775373127345156,
          -2.5886674324185903,
          0.25124910442559306,
          -0.8477478441497627,
          -2.1937983036540953,
          -2.2162891398611375,
          -1.7572293509792754,
          -2.760899131674547,
          -2.297346679712819,
          -2.7689195660475767
         ],
         "z": [
          -1.1800133553094856,
          -0.7238225948116622,
          -0.16763981598372066,
          -0.45330130146918574,
          -1.1013997885920577,
          -1.0991241041153397,
          0.2218277998410474,
          1.7122154192145351,
          -1.0268314134224492,
          1.2419143328305633,
          0.6096701239723727,
          -0.9716430323608526,
          0.9469529317999712,
          -0.2528839940533327,
          -1.2451252259210641,
          -0.8559610818033763,
          -1.4581969616385653,
          -0.11078403762472706,
          -0.4725279345720864,
          -0.4959598102350934,
          0.4376817436187621,
          -0.31226799865093186,
          1.3625897815878698,
          -0.9646286882006799,
          -1.1904046839669855,
          -0.09403686133597268,
          -0.782322555508447,
          1.6020259689000207,
          1.1600385659132262,
          0.5485596972407084,
          -0.0909987239222239,
          -0.10137693249612001,
          0.8042152181010286,
          -0.8849395211306321,
          -0.9834007272249401,
          -0.46602912777853855,
          0.4282262107995776,
          -1.2133582715051479,
          0.7637825515581192,
          1.4180440294968135,
          -0.8471291521285006,
          -1.3394202310855159,
          -0.9187809604264888,
          -0.34256951241432193,
          0.20758135498125144,
          -0.940941876676994,
          -0.5506961970110866,
          1.013913664113114
         ]
        }
       ],
       "layout": {
        "height": 700,
        "scene": {
         "aspectmode": "auto",
         "aspectratio": {
          "x": 1.0022303568114692,
          "y": 0.8615134125566922,
          "z": 1.1581649131251082
         },
         "camera": {
          "center": {
           "x": 0,
           "y": 0,
           "z": 0
          },
          "eye": {
           "x": 1.6804034977650362,
           "y": 1.680403497765036,
           "z": 1.6804034977650362
          },
          "projection": {
           "type": "perspective"
          },
          "up": {
           "x": 0,
           "y": 0,
           "z": 1
          }
         },
         "xaxis": {
          "title": {
           "text": "PC 1"
          },
          "type": "linear"
         },
         "yaxis": {
          "title": {
           "text": "PC 2"
          },
          "type": "linear"
         },
         "zaxis": {
          "title": {
           "text": "PC 3"
          },
          "type": "linear"
         }
        },
        "template": {
         "data": {
          "bar": [
           {
            "error_x": {
             "color": "#2a3f5f"
            },
            "error_y": {
             "color": "#2a3f5f"
            },
            "marker": {
             "line": {
              "color": "#E5ECF6",
              "width": 0.5
             },
             "pattern": {
              "fillmode": "overlay",
              "size": 10,
              "solidity": 0.2
             }
            },
            "type": "bar"
           }
          ],
          "barpolar": [
           {
            "marker": {
             "line": {
              "color": "#E5ECF6",
              "width": 0.5
             },
             "pattern": {
              "fillmode": "overlay",
              "size": 10,
              "solidity": 0.2
             }
            },
            "type": "barpolar"
           }
          ],
          "carpet": [
           {
            "aaxis": {
             "endlinecolor": "#2a3f5f",
             "gridcolor": "white",
             "linecolor": "white",
             "minorgridcolor": "white",
             "startlinecolor": "#2a3f5f"
            },
            "baxis": {
             "endlinecolor": "#2a3f5f",
             "gridcolor": "white",
             "linecolor": "white",
             "minorgridcolor": "white",
             "startlinecolor": "#2a3f5f"
            },
            "type": "carpet"
           }
          ],
          "choropleth": [
           {
            "colorbar": {
             "outlinewidth": 0,
             "ticks": ""
            },
            "type": "choropleth"
           }
          ],
          "contour": [
           {
            "colorbar": {
             "outlinewidth": 0,
             "ticks": ""
            },
            "colorscale": [
             [
              0,
              "#0d0887"
             ],
             [
              0.1111111111111111,
              "#46039f"
             ],
             [
              0.2222222222222222,
              "#7201a8"
             ],
             [
              0.3333333333333333,
              "#9c179e"
             ],
             [
              0.4444444444444444,
              "#bd3786"
             ],
             [
              0.5555555555555556,
              "#d8576b"
             ],
             [
              0.6666666666666666,
              "#ed7953"
             ],
             [
              0.7777777777777778,
              "#fb9f3a"
             ],
             [
              0.8888888888888888,
              "#fdca26"
             ],
             [
              1,
              "#f0f921"
             ]
            ],
            "type": "contour"
           }
          ],
          "contourcarpet": [
           {
            "colorbar": {
             "outlinewidth": 0,
             "ticks": ""
            },
            "type": "contourcarpet"
           }
          ],
          "heatmap": [
           {
            "colorbar": {
             "outlinewidth": 0,
             "ticks": ""
            },
            "colorscale": [
             [
              0,
              "#0d0887"
             ],
             [
              0.1111111111111111,
              "#46039f"
             ],
             [
              0.2222222222222222,
              "#7201a8"
             ],
             [
              0.3333333333333333,
              "#9c179e"
             ],
             [
              0.4444444444444444,
              "#bd3786"
             ],
             [
              0.5555555555555556,
              "#d8576b"
             ],
             [
              0.6666666666666666,
              "#ed7953"
             ],
             [
              0.7777777777777778,
              "#fb9f3a"
             ],
             [
              0.8888888888888888,
              "#fdca26"
             ],
             [
              1,
              "#f0f921"
             ]
            ],
            "type": "heatmap"
           }
          ],
          "heatmapgl": [
           {
            "colorbar": {
             "outlinewidth": 0,
             "ticks": ""
            },
            "colorscale": [
             [
              0,
              "#0d0887"
             ],
             [
              0.1111111111111111,
              "#46039f"
             ],
             [
              0.2222222222222222,
              "#7201a8"
             ],
             [
              0.3333333333333333,
              "#9c179e"
             ],
             [
              0.4444444444444444,
              "#bd3786"
             ],
             [
              0.5555555555555556,
              "#d8576b"
             ],
             [
              0.6666666666666666,
              "#ed7953"
             ],
             [
              0.7777777777777778,
              "#fb9f3a"
             ],
             [
              0.8888888888888888,
              "#fdca26"
             ],
             [
              1,
              "#f0f921"
             ]
            ],
            "type": "heatmapgl"
           }
          ],
          "histogram": [
           {
            "marker": {
             "pattern": {
              "fillmode": "overlay",
              "size": 10,
              "solidity": 0.2
             }
            },
            "type": "histogram"
           }
          ],
          "histogram2d": [
           {
            "colorbar": {
             "outlinewidth": 0,
             "ticks": ""
            },
            "colorscale": [
             [
              0,
              "#0d0887"
             ],
             [
              0.1111111111111111,
              "#46039f"
             ],
             [
              0.2222222222222222,
              "#7201a8"
             ],
             [
              0.3333333333333333,
              "#9c179e"
             ],
             [
              0.4444444444444444,
              "#bd3786"
             ],
             [
              0.5555555555555556,
              "#d8576b"
             ],
             [
              0.6666666666666666,
              "#ed7953"
             ],
             [
              0.7777777777777778,
              "#fb9f3a"
             ],
             [
              0.8888888888888888,
              "#fdca26"
             ],
             [
              1,
              "#f0f921"
             ]
            ],
            "type": "histogram2d"
           }
          ],
          "histogram2dcontour": [
           {
            "colorbar": {
             "outlinewidth": 0,
             "ticks": ""
            },
            "colorscale": [
             [
              0,
              "#0d0887"
             ],
             [
              0.1111111111111111,
              "#46039f"
             ],
             [
              0.2222222222222222,
              "#7201a8"
             ],
             [
              0.3333333333333333,
              "#9c179e"
             ],
             [
              0.4444444444444444,
              "#bd3786"
             ],
             [
              0.5555555555555556,
              "#d8576b"
             ],
             [
              0.6666666666666666,
              "#ed7953"
             ],
             [
              0.7777777777777778,
              "#fb9f3a"
             ],
             [
              0.8888888888888888,
              "#fdca26"
             ],
             [
              1,
              "#f0f921"
             ]
            ],
            "type": "histogram2dcontour"
           }
          ],
          "mesh3d": [
           {
            "colorbar": {
             "outlinewidth": 0,
             "ticks": ""
            },
            "type": "mesh3d"
           }
          ],
          "parcoords": [
           {
            "line": {
             "colorbar": {
              "outlinewidth": 0,
              "ticks": ""
             }
            },
            "type": "parcoords"
           }
          ],
          "pie": [
           {
            "automargin": true,
            "type": "pie"
           }
          ],
          "scatter": [
           {
            "fillpattern": {
             "fillmode": "overlay",
             "size": 10,
             "solidity": 0.2
            },
            "type": "scatter"
           }
          ],
          "scatter3d": [
           {
            "line": {
             "colorbar": {
              "outlinewidth": 0,
              "ticks": ""
             }
            },
            "marker": {
             "colorbar": {
              "outlinewidth": 0,
              "ticks": ""
             }
            },
            "type": "scatter3d"
           }
          ],
          "scattercarpet": [
           {
            "marker": {
             "colorbar": {
              "outlinewidth": 0,
              "ticks": ""
             }
            },
            "type": "scattercarpet"
           }
          ],
          "scattergeo": [
           {
            "marker": {
             "colorbar": {
              "outlinewidth": 0,
              "ticks": ""
             }
            },
            "type": "scattergeo"
           }
          ],
          "scattergl": [
           {
            "marker": {
             "colorbar": {
              "outlinewidth": 0,
              "ticks": ""
             }
            },
            "type": "scattergl"
           }
          ],
          "scattermapbox": [
           {
            "marker": {
             "colorbar": {
              "outlinewidth": 0,
              "ticks": ""
             }
            },
            "type": "scattermapbox"
           }
          ],
          "scatterpolar": [
           {
            "marker": {
             "colorbar": {
              "outlinewidth": 0,
              "ticks": ""
             }
            },
            "type": "scatterpolar"
           }
          ],
          "scatterpolargl": [
           {
            "marker": {
             "colorbar": {
              "outlinewidth": 0,
              "ticks": ""
             }
            },
            "type": "scatterpolargl"
           }
          ],
          "scatterternary": [
           {
            "marker": {
             "colorbar": {
              "outlinewidth": 0,
              "ticks": ""
             }
            },
            "type": "scatterternary"
           }
          ],
          "surface": [
           {
            "colorbar": {
             "outlinewidth": 0,
             "ticks": ""
            },
            "colorscale": [
             [
              0,
              "#0d0887"
             ],
             [
              0.1111111111111111,
              "#46039f"
             ],
             [
              0.2222222222222222,
              "#7201a8"
             ],
             [
              0.3333333333333333,
              "#9c179e"
             ],
             [
              0.4444444444444444,
              "#bd3786"
             ],
             [
              0.5555555555555556,
              "#d8576b"
             ],
             [
              0.6666666666666666,
              "#ed7953"
             ],
             [
              0.7777777777777778,
              "#fb9f3a"
             ],
             [
              0.8888888888888888,
              "#fdca26"
             ],
             [
              1,
              "#f0f921"
             ]
            ],
            "type": "surface"
           }
          ],
          "table": [
           {
            "cells": {
             "fill": {
              "color": "#EBF0F8"
             },
             "line": {
              "color": "white"
             }
            },
            "header": {
             "fill": {
              "color": "#C8D4E3"
             },
             "line": {
              "color": "white"
             }
            },
            "type": "table"
           }
          ]
         },
         "layout": {
          "annotationdefaults": {
           "arrowcolor": "#2a3f5f",
           "arrowhead": 0,
           "arrowwidth": 1
          },
          "autotypenumbers": "strict",
          "coloraxis": {
           "colorbar": {
            "outlinewidth": 0,
            "ticks": ""
           }
          },
          "colorscale": {
           "diverging": [
            [
             0,
             "#8e0152"
            ],
            [
             0.1,
             "#c51b7d"
            ],
            [
             0.2,
             "#de77ae"
            ],
            [
             0.3,
             "#f1b6da"
            ],
            [
             0.4,
             "#fde0ef"
            ],
            [
             0.5,
             "#f7f7f7"
            ],
            [
             0.6,
             "#e6f5d0"
            ],
            [
             0.7,
             "#b8e186"
            ],
            [
             0.8,
             "#7fbc41"
            ],
            [
             0.9,
             "#4d9221"
            ],
            [
             1,
             "#276419"
            ]
           ],
           "sequential": [
            [
             0,
             "#0d0887"
            ],
            [
             0.1111111111111111,
             "#46039f"
            ],
            [
             0.2222222222222222,
             "#7201a8"
            ],
            [
             0.3333333333333333,
             "#9c179e"
            ],
            [
             0.4444444444444444,
             "#bd3786"
            ],
            [
             0.5555555555555556,
             "#d8576b"
            ],
            [
             0.6666666666666666,
             "#ed7953"
            ],
            [
             0.7777777777777778,
             "#fb9f3a"
            ],
            [
             0.8888888888888888,
             "#fdca26"
            ],
            [
             1,
             "#f0f921"
            ]
           ],
           "sequentialminus": [
            [
             0,
             "#0d0887"
            ],
            [
             0.1111111111111111,
             "#46039f"
            ],
            [
             0.2222222222222222,
             "#7201a8"
            ],
            [
             0.3333333333333333,
             "#9c179e"
            ],
            [
             0.4444444444444444,
             "#bd3786"
            ],
            [
             0.5555555555555556,
             "#d8576b"
            ],
            [
             0.6666666666666666,
             "#ed7953"
            ],
            [
             0.7777777777777778,
             "#fb9f3a"
            ],
            [
             0.8888888888888888,
             "#fdca26"
            ],
            [
             1,
             "#f0f921"
            ]
           ]
          },
          "colorway": [
           "#636efa",
           "#EF553B",
           "#00cc96",
           "#ab63fa",
           "#FFA15A",
           "#19d3f3",
           "#FF6692",
           "#B6E880",
           "#FF97FF",
           "#FECB52"
          ],
          "font": {
           "color": "#2a3f5f"
          },
          "geo": {
           "bgcolor": "white",
           "lakecolor": "white",
           "landcolor": "#E5ECF6",
           "showlakes": true,
           "showland": true,
           "subunitcolor": "white"
          },
          "hoverlabel": {
           "align": "left"
          },
          "hovermode": "closest",
          "mapbox": {
           "style": "light"
          },
          "paper_bgcolor": "white",
          "plot_bgcolor": "#E5ECF6",
          "polar": {
           "angularaxis": {
            "gridcolor": "white",
            "linecolor": "white",
            "ticks": ""
           },
           "bgcolor": "#E5ECF6",
           "radialaxis": {
            "gridcolor": "white",
            "linecolor": "white",
            "ticks": ""
           }
          },
          "scene": {
           "xaxis": {
            "backgroundcolor": "#E5ECF6",
            "gridcolor": "white",
            "gridwidth": 2,
            "linecolor": "white",
            "showbackground": true,
            "ticks": "",
            "zerolinecolor": "white"
           },
           "yaxis": {
            "backgroundcolor": "#E5ECF6",
            "gridcolor": "white",
            "gridwidth": 2,
            "linecolor": "white",
            "showbackground": true,
            "ticks": "",
            "zerolinecolor": "white"
           },
           "zaxis": {
            "backgroundcolor": "#E5ECF6",
            "gridcolor": "white",
            "gridwidth": 2,
            "linecolor": "white",
            "showbackground": true,
            "ticks": "",
            "zerolinecolor": "white"
           }
          },
          "shapedefaults": {
           "line": {
            "color": "#2a3f5f"
           }
          },
          "ternary": {
           "aaxis": {
            "gridcolor": "white",
            "linecolor": "white",
            "ticks": ""
           },
           "baxis": {
            "gridcolor": "white",
            "linecolor": "white",
            "ticks": ""
           },
           "bgcolor": "#E5ECF6",
           "caxis": {
            "gridcolor": "white",
            "linecolor": "white",
            "ticks": ""
           }
          },
          "title": {
           "x": 0.05
          },
          "xaxis": {
           "automargin": true,
           "gridcolor": "white",
           "linecolor": "white",
           "ticks": "",
           "title": {
            "standoff": 15
           },
           "zerolinecolor": "white",
           "zerolinewidth": 2
          },
          "yaxis": {
           "automargin": true,
           "gridcolor": "white",
           "linecolor": "white",
           "ticks": "",
           "title": {
            "standoff": 15
           },
           "zerolinecolor": "white",
           "zerolinewidth": 2
          }
         }
        },
        "title": {
         "text": "PCA: Wine Dataset"
        },
        "width": 1000
       }
      },
      "image/png": "[encoded data removed]",
      "text/html": [
       "<div>                            <div id=\"92df9e18-d0d6-4d0a-a333-b7c00798b2ac\" class=\"plotly-graph-div\" style=\"height:700px; width:1000px;\"></div>            <script type=\"text/javascript\">                require([\"plotly\"], function(Plotly) {                    window.PLOTLYENV=window.PLOTLYENV || {};                                    if (document.getElementById(\"92df9e18-d0d6-4d0a-a333-b7c00798b2ac\")) {                    Plotly.newPlot(                        \"92df9e18-d0d6-4d0a-a333-b7c00798b2ac\",                        [{\"marker\":{\"opacity\":0.7,\"size\":5},\"mode\":\"markers\",\"name\":\"Customer Segment 1\",\"x\":[3.3167508122147793,2.2094649169188503,2.5167401466103825,3.7570656097732025,1.0089084937957147,3.050253922418076,2.4490896695962325,2.059436871437915,2.5108742973989897,2.7536281876339097,3.4797366827312124,1.75475290129459,2.1134623403150967,3.458156819336722,4.312783906765562,2.3051882008279727,2.1719552737415126,1.898971176562761,3.541985081943469,2.084522204730313,3.124402535167201,1.086570068332239,2.5352240799037156,1.6449883412544708,1.7615758722693016,0.9900791016088568,1.7752776281133689,1.2354239643099068,2.188406334451963,2.2561089812837087,2.5002200257894267,2.677411047444015,1.6285791164309198,1.9026908622381489,1.4103885265954075,1.9038262321944877,1.3848622303748401,1.1222074104413111,1.502194500618193,2.5298010923718093,2.5880954258544033,0.6684819937541856,3.070806990412008,0.4622091375160059,2.101351930538016,1.1361661775610168,2.726600963640803,2.82133927419225,2.0098508509123585,2.707491304266394,3.214917474773823,2.858959826717295,3.5056043559232224,2.2247913805321735,2.146987823563867,2.4693294837977886,2.7415179142774537,2.1737409209653076,3.139380151828996],\"y\":[-1.443462634318013,0.33339288708029924,-1.0311512962743195,-2.7563719137107143,-0.8698308214172044,-2.1224011146341946,-1.1748501316494764,-1.6089630683635103,-0.918070957333781,-0.789437673833609,-1.3023332371235974,-0.6119772287456334,-0.6757063391426205,-1.1306298761729412,-2.095975575341266,-1.662551729989058,-2.327305336191422,-1.6313688786428395,-2.5183436693066494,-1.0611379935838625,-0.7868971056508977,-0.24174355133283995,0.09184062072087927,0.5162789300672354,0.3171489326843805,-0.9406673381906333,-0.6861751342850242,0.08980704136063912,-0.6895696206616262,-0.1914619368866672,-1.240833834896944,-1.4718736461032502,-0.052704450575324385,-1.6330604347699849,-0.6979343246113575,-0.17671095109545715,-0.6586398536611494,-0.11410976029688823,0.7694320064310082,-1.8030019760618319,-0.7796163041925093,-0.16996094061987652,-1.1559189566098853,-0.3307421321922759,0.07100892095406615,-1.7771073929776402,-1.1913346919571877,-0.6462585991417057,-1.2470294606787622,-1.7519674072063396,-0.166991994996792,-0.7452788039895899,-1.6127338560350135,-1.8751679995630264,-1.0167515377576617,-1.3290083106496235,-1.4365487835125175,-1.212199840697795,-1.7315791159925145],\"z\":[-0.16573904461441877,-2.0264573738075358,0.9828186702120589,-0.17619184219949197,2.0266882192354068,-0.6293958270439122,-0.9770948907141944,0.14628188306156026,-1.7709690272289407,-0.9842474895182355,-0.4227352165808458,-1.1908783196301724,-0.8650864256166532,-1.2042763525381894,-1.2639127523579987,0.21790261559595908,0.8317298659860085,0.7949137923810702,-0.4854585076662915,-0.16474667849947414,-0.36488708298884587,0.9369615996106438,-0.311932659347969,0.14388509467079563,0.8902856474056895,3.8209080081948366,-0.08670040648876257,-1.3868965448964348,1.3945668808503602,-1.0926572575082922,1.386017854715679,-0.33226172837509294,-0.16712870624533335,1.1720821191753459,0.4797430251686625,0.4508350400372087,0.45843858085206257,-0.03910727668974843,-1.42617734589046,-0.3431523889796911,-0.11847746611373691,-0.7833625480611448,-0.3127580839341539,-0.2014764962567723,-0.6558494150434352,0.0287057357847526,-0.5397732611476722,-1.155552410727407,-0.05729398793992213,-0.643113612000794,-1.9735716799013732,0.004719502164698044,-0.5207745300761748,0.33954985035420965,-0.9577627619503268,0.5134374530359693,-0.6124733957169585,0.26177959277079044,-0.28566141261644956],\"type\":\"scatter3d\"},{\"marker\":{\"opacity\":0.7,\"size\":5},\"mode\":\"markers\",\"name\":\"Customer Segment 2\",\"x\":[-0.9285819689218537,-1.5424801378968795,-1.83624976346694,0.03060683408668104,2.050261607576317,-0.6096808271776213,0.9002278387071442,2.248507190798395,0.1833840266847567,-0.8128050273520703,1.9756204987985555,-1.5722162196262988,1.6576818088332903,-0.7253723880353555,2.5622271731703625,1.8325675700495483,-0.8679929031954122,0.3700144042947841,-1.457377044906139,1.2629308497284988,0.3761503719342399,0.7620639041096002,1.0345779671651876,-0.49487675568032624,-2.5389770842951225,0.8353201453942988,0.7879046149897109,-0.8068321559655374,-0.5580426248756815,-1.115111041919446,-0.5557228299517003,-1.3492852824437302,-1.5644826057199048,-1.9325556106314632,0.7466659419884499,0.957455363803641,2.543865184199553,-0.5439525887762282,1.0310497503881495,2.2519094221481257,1.4102160153374597,0.7977197926930414,-0.5495317266494633,-0.16117373994854556,-0.6597949416843597,0.3923544081850837,-1.772499077960035,-0.36626735735206384,-1.620672572787479,0.08253578349332853,1.5782750709323825,1.4205692478240148,-0.2787027536488548,-1.3031449662482797,-0.4570718656526238,-0.49418584704437446,0.48207440977309407,-0.25288887765319895,-0.10722763772912279,-2.433012602550219,-0.5510895391746504,0.739621928568221,1.3363217334183295,-1.177086996247774,-0.46233500801968264,0.9784740793566468,-0.09680972631598556,0.03848714594902509,-1.5971585012074716,-0.47956491608312496,-1.792833473031145],\"y\":[3.073486163188928,1.3814435080942304,0.8299841230557182,1.2627861442114008,1.9250326046501014,1.90805880508519,0.7639114736096105,1.8845924845501323,2.4271461147035724,0.22051398690226928,1.4032832253096152,0.8849831369082242,0.9567121974591479,1.063645400706094,-0.2601985506545964,1.2878781978605265,2.444101185580866,2.1539069751569873,1.3833517690762616,0.7708495299701182,1.027043403355823,3.375053809963536,1.450709738244092,2.3812435267673724,0.08744335730498247,1.4736705514008699,2.026626522462478,2.2338303908439134,2.372985428849459,1.802247191665457,2.6575400353922953,2.11800146978482,1.8522145217655537,1.559495456898623,2.3129317092207407,2.2235284346674624,-0.16927402279973985,0.3689265458773194,2.565569348733524,1.4327413803542552,2.166191769370385,2.3769488030818624,2.293128643245627,1.1644833215600174,2.679961185989637,2.0987317087655373,1.7172884693761445,2.1693532978292844,1.3555833880259585,2.3062345877483263,1.4620342902048193,1.4182066376337517,1.9305680886704686,0.7631723136577948,2.2694156075896776,1.939045049486834,3.871783848407242,2.8214923747015943,1.9289220425669602,1.2571410404943932,2.2221615507766233,1.4089566673657148,-0.2533369311683021,0.6639668398015728,0.6182881794850409,1.4455704988958282,2.109997993135227,1.2667621091578862,1.2081435741284887,1.9388406603940498,1.1502881044421067],\"z\":[-4.585064007148204,-0.8746831124458081,-1.6057021863206185,-1.7844080104188533,-0.007368777349818068,0.6793579379775357,0.5733613020971906,-2.031840192867586,-1.0697455602477968,-0.7070053958009658,-1.2382762196848653,-0.628997950231594,1.9525842166061982,0.08033222861543787,3.374393962239755,0.45828002739955714,-1.5633331789503786,-2.4493863483037375,-0.22730690232730547,-1.184224517375243,1.7944662945426577,-0.35747005553946487,-0.36301177316396077,1.3357431762848653,0.47425139276914713,0.6100935756921047,-0.2547234039695498,0.7728557971982644,2.3076114040120026,0.9592533076886531,0.8491268977432251,-0.04765232084869249,0.7810670309346309,-0.08927467610867838,0.114679768745415,0.1424447736987244,0.7886969907454745,1.308895931856858,-1.0863901738177395,-0.23020824379781563,0.7488964107708779,-1.5681125312755264,-1.4989353232010767,1.003713102837355,-0.7649208684795149,-0.4718500076097382,0.9470331744608645,-0.4813242347422906,0.2871590006956164,-0.4635749893739552,1.7796459547332812,0.13927582948818856,0.07867055304723337,1.9995965104868538,1.061338967592664,1.3239380723766918,1.3442712233930707,-0.3026397845306407,0.690148242507511,-1.903027404411349,-0.3562288302125361,1.1253454920042338,5.34538817919574,3.0102218879464275,0.48344236634418,1.4812369749959438,0.4348261156167872,0.6875779128728073,3.3611755553864255,1.2965075188296686,0.7828001731822637],\"type\":\"scatter3d\"},{\"marker\":{\"opacity\":0.7,\"size\":5},\"mode\":\"markers\",\"name\":\"Customer Segment 3\",\"x\":[-1.3271016561416014,-2.384500834743531,-2.9369401021466137,-2.1468111338160654,-2.369869488333043,-3.0638415687203557,-3.9157537837118914,-3.9364633907159656,-3.094276117762277,-2.374471628006924,-2.778812947632514,-2.2865612847384695,-2.9856334874494665,-2.3751946982271104,-2.2098655255958732,-2.6256210046927224,-4.280638778751089,-3.5826413720011074,-2.807063720081661,-2.8996593330239127,-2.320736976549206,-2.549830947226138,-1.8125412848422993,-2.7601446419239526,-2.7371505006679913,-3.6048688681834276,-2.8898259968735096,-3.3921560768357226,-1.0481818968536798,-1.6099122828479373,-3.1431309667439775,-2.2401568962695437,-2.847673776119522,-2.5974970566487654,-2.9492993731348456,-3.530032266349314,-2.406110540478555,-2.929084726967458,-2.1814127788126223,-2.3809277871356422,-3.211617215041249,-3.6779187209738184,-2.4655557980404508,-3.3705241454428645,-2.6019558512247394,-2.6778394608645053,-2.3870170912797204,-3.2087581641980245],\"y\":[-0.17038923204902734,-0.37458260552469297,-0.2638618300683794,-0.3682549518864607,0.4596348092311676,-0.353412835458402,-0.15458251944173051,-0.6596872334097811,-0.34884275927379665,-0.2919803515599933,-0.2868048728821731,-0.3725078446852991,-0.4892179083470122,-0.48233371724487933,-1.1600525041576424,-0.5631607642108345,-0.6496709640237073,-1.272702749727301,-1.5705337870411977,-2.041057007938464,-2.356366075556675,-2.0452830910195234,-1.5276459462687504,-2.138932347642612,-0.4098862708817896,-1.802384217583967,-1.9252186131303441,-1.311876388473594,-3.5150896912197327,-2.4066381595743285,-0.7381610441757964,-1.1754652881188652,-0.5560439658826731,-0.697965537200919,-1.5553089642839848,-0.8825267962042368,-2.5923561750423985,-1.2744469479044822,-2.0775373127345156,-2.5886674324185903,0.25124910442559306,-0.8477478441497627,-2.1937983036540953,-2.2162891398611375,-1.7572293509792754,-2.760899131674547,-2.297346679712819,-2.7689195660475767],\"z\":[-1.1800133553094856,-0.7238225948116622,-0.16763981598372066,-0.45330130146918574,-1.1013997885920577,-1.0991241041153397,0.2218277998410474,1.7122154192145351,-1.0268314134224492,1.2419143328305633,0.6096701239723727,-0.9716430323608526,0.9469529317999712,-0.2528839940533327,-1.2451252259210641,-0.8559610818033763,-1.4581969616385653,-0.11078403762472706,-0.4725279345720864,-0.4959598102350934,0.4376817436187621,-0.31226799865093186,1.3625897815878698,-0.9646286882006799,-1.1904046839669855,-0.09403686133597268,-0.782322555508447,1.6020259689000207,1.1600385659132262,0.5485596972407084,-0.0909987239222239,-0.10137693249612001,0.8042152181010286,-0.8849395211306321,-0.9834007272249401,-0.46602912777853855,0.4282262107995776,-1.2133582715051479,0.7637825515581192,1.4180440294968135,-0.8471291521285006,-1.3394202310855159,-0.9187809604264888,-0.34256951241432193,0.20758135498125144,-0.940941876676994,-0.5506961970110866,1.013913664113114],\"type\":\"scatter3d\"}],                        {\"template\":{\"data\":{\"histogram2dcontour\":[{\"type\":\"histogram2dcontour\",\"colorbar\":{\"outlinewidth\":0,\"ticks\":\"\"},\"colorscale\":[[0.0,\"#0d0887\"],[0.1111111111111111,\"#46039f\"],[0.2222222222222222,\"#7201a8\"],[0.3333333333333333,\"#9c179e\"],[0.4444444444444444,\"#bd3786\"],[0.5555555555555556,\"#d8576b\"],[0.6666666666666666,\"#ed7953\"],[0.7777777777777778,\"#fb9f3a\"],[0.8888888888888888,\"#fdca26\"],[1.0,\"#f0f921\"]]}],\"choropleth\":[{\"type\":\"choropleth\",\"colorbar\":{\"outlinewidth\":0,\"ticks\":\"\"}}],\"histogram2d\":[{\"type\":\"histogram2d\",\"colorbar\":{\"outlinewidth\":0,\"ticks\":\"\"},\"colorscale\":[[0.0,\"#0d0887\"],[0.1111111111111111,\"#46039f\"],[0.2222222222222222,\"#7201a8\"],[0.3333333333333333,\"#9c179e\"],[0.4444444444444444,\"#bd3786\"],[0.5555555555555556,\"#d8576b\"],[0.6666666666666666,\"#ed7953\"],[0.7777777777777778,\"#fb9f3a\"],[0.8888888888888888,\"#fdca26\"],[1.0,\"#f0f921\"]]}],\"heatmap\":[{\"type\":\"heatmap\",\"colorbar\":{\"outlinewidth\":0,\"ticks\":\"\"},\"colorscale\":[[0.0,\"#0d0887\"],[0.1111111111111111,\"#46039f\"],[0.2222222222222222,\"#7201a8\"],[0.3333333333333333,\"#9c179e\"],[0.4444444444444444,\"#bd3786\"],[0.5555555555555556,\"#d8576b\"],[0.6666666666666666,\"#ed7953\"],[0.7777777777777778,\"#fb9f3a\"],[0.8888888888888888,\"#fdca26\"],[1.0,\"#f0f921\"]]}],\"heatmapgl\":[{\"type\":\"heatmapgl\",\"colorbar\":{\"outlinewidth\":0,\"ticks\":\"\"},\"colorscale\":[[0.0,\"#0d0887\"],[0.1111111111111111,\"#46039f\"],[0.2222222222222222,\"#7201a8\"],[0.3333333333333333,\"#9c179e\"],[0.4444444444444444,\"#bd3786\"],[0.5555555555555556,\"#d8576b\"],[0.6666666666666666,\"#ed7953\"],[0.7777777777777778,\"#fb9f3a\"],[0.8888888888888888,\"#fdca26\"],[1.0,\"#f0f921\"]]}],\"contourcarpet\":[{\"type\":\"contourcarpet\",\"colorbar\":{\"outlinewidth\":0,\"ticks\":\"\"}}],\"contour\":[{\"type\":\"contour\",\"colorbar\":{\"outlinewidth\":0,\"ticks\":\"\"},\"colorscale\":[[0.0,\"#0d0887\"],[0.1111111111111111,\"#46039f\"],[0.2222222222222222,\"#7201a8\"],[0.3333333333333333,\"#9c179e\"],[0.4444444444444444,\"#bd3786\"],[0.5555555555555556,\"#d8576b\"],[0.6666666666666666,\"#ed7953\"],[0.7777777777777778,\"#fb9f3a\"],[0.8888888888888888,\"#fdca26\"],[1.0,\"#f0f921\"]]}],\"surface\":[{\"type\":\"surface\",\"colorbar\":{\"outlinewidth\":0,\"ticks\":\"\"},\"colorscale\":[[0.0,\"#0d0887\"],[0.1111111111111111,\"#46039f\"],[0.2222222222222222,\"#7201a8\"],[0.3333333333333333,\"#9c179e\"],[0.4444444444444444,\"#bd3786\"],[0.5555555555555556,\"#d8576b\"],[0.6666666666666666,\"#ed7953\"],[0.7777777777777778,\"#fb9f3a\"],[0.8888888888888888,\"#fdca26\"],[1.0,\"#f0f921\"]]}],\"mesh3d\":[{\"type\":\"mesh3d\",\"colorbar\":{\"outlinewidth\":0,\"ticks\":\"\"}}],\"scatter\":[{\"fillpattern\":{\"fillmode\":\"overlay\",\"size\":10,\"solidity\":0.2},\"type\":\"scatter\"}],\"parcoords\":[{\"type\":\"parcoords\",\"line\":{\"colorbar\":{\"outlinewidth\":0,\"ticks\":\"\"}}}],\"scatterpolargl\":[{\"type\":\"scatterpolargl\",\"marker\":{\"colorbar\":{\"outlinewidth\":0,\"ticks\":\"\"}}}],\"bar\":[{\"error_x\":{\"color\":\"#2a3f5f\"},\"error_y\":{\"color\":\"#2a3f5f\"},\"marker\":{\"line\":{\"color\":\"#E5ECF6\",\"width\":0.5},\"pattern\":{\"fillmode\":\"overlay\",\"size\":10,\"solidity\":0.2}},\"type\":\"bar\"}],\"scattergeo\":[{\"type\":\"scattergeo\",\"marker\":{\"colorbar\":{\"outlinewidth\":0,\"ticks\":\"\"}}}],\"scatterpolar\":[{\"type\":\"scatterpolar\",\"marker\":{\"colorbar\":{\"outlinewidth\":0,\"ticks\":\"\"}}}],\"histogram\":[{\"marker\":{\"pattern\":{\"fillmode\":\"overlay\",\"size\":10,\"solidity\":0.2}},\"type\":\"histogram\"}],\"scattergl\":[{\"type\":\"scattergl\",\"marker\":{\"colorbar\":{\"outlinewidth\":0,\"ticks\":\"\"}}}],\"scatter3d\":[{\"type\":\"scatter3d\",\"line\":{\"colorbar\":{\"outlinewidth\":0,\"ticks\":\"\"}},\"marker\":{\"colorbar\":{\"outlinewidth\":0,\"ticks\":\"\"}}}],\"scattermapbox\":[{\"type\":\"scattermapbox\",\"marker\":{\"colorbar\":{\"outlinewidth\":0,\"ticks\":\"\"}}}],\"scatterternary\":[{\"type\":\"scatterternary\",\"marker\":{\"colorbar\":{\"outlinewidth\":0,\"ticks\":\"\"}}}],\"scattercarpet\":[{\"type\":\"scattercarpet\",\"marker\":{\"colorbar\":{\"outlinewidth\":0,\"ticks\":\"\"}}}],\"carpet\":[{\"aaxis\":{\"endlinecolor\":\"#2a3f5f\",\"gridcolor\":\"white\",\"linecolor\":\"white\",\"minorgridcolor\":\"white\",\"startlinecolor\":\"#2a3f5f\"},\"baxis\":{\"endlinecolor\":\"#2a3f5f\",\"gridcolor\":\"white\",\"linecolor\":\"white\",\"minorgridcolor\":\"white\",\"startlinecolor\":\"#2a3f5f\"},\"type\":\"carpet\"}],\"table\":[{\"cells\":{\"fill\":{\"color\":\"#EBF0F8\"},\"line\":{\"color\":\"white\"}},\"header\":{\"fill\":{\"color\":\"#C8D4E3\"},\"line\":{\"color\":\"white\"}},\"type\":\"table\"}],\"barpolar\":[{\"marker\":{\"line\":{\"color\":\"#E5ECF6\",\"width\":0.5},\"pattern\":{\"fillmode\":\"overlay\",\"size\":10,\"solidity\":0.2}},\"type\":\"barpolar\"}],\"pie\":[{\"automargin\":true,\"type\":\"pie\"}]},\"layout\":{\"autotypenumbers\":\"strict\",\"colorway\":[\"#636efa\",\"#EF553B\",\"#00cc96\",\"#ab63fa\",\"#FFA15A\",\"#19d3f3\",\"#FF6692\",\"#B6E880\",\"#FF97FF\",\"#FECB52\"],\"font\":{\"color\":\"#2a3f5f\"},\"hovermode\":\"closest\",\"hoverlabel\":{\"align\":\"left\"},\"paper_bgcolor\":\"white\",\"plot_bgcolor\":\"#E5ECF6\",\"polar\":{\"bgcolor\":\"#E5ECF6\",\"angularaxis\":{\"gridcolor\":\"white\",\"linecolor\":\"white\",\"ticks\":\"\"},\"radialaxis\":{\"gridcolor\":\"white\",\"linecolor\":\"white\",\"ticks\":\"\"}},\"ternary\":{\"bgcolor\":\"#E5ECF6\",\"aaxis\":{\"gridcolor\":\"white\",\"linecolor\":\"white\",\"ticks\":\"\"},\"baxis\":{\"gridcolor\":\"white\",\"linecolor\":\"white\",\"ticks\":\"\"},\"caxis\":{\"gridcolor\":\"white\",\"linecolor\":\"white\",\"ticks\":\"\"}},\"coloraxis\":{\"colorbar\":{\"outlinewidth\":0,\"ticks\":\"\"}},\"colorscale\":{\"sequential\":[[0.0,\"#0d0887\"],[0.1111111111111111,\"#46039f\"],[0.2222222222222222,\"#7201a8\"],[0.3333333333333333,\"#9c179e\"],[0.4444444444444444,\"#bd3786\"],[0.5555555555555556,\"#d8576b\"],[0.6666666666666666,\"#ed7953\"],[0.7777777777777778,\"#fb9f3a\"],[0.8888888888888888,\"#fdca26\"],[1.0,\"#f0f921\"]],\"sequentialminus\":[[0.0,\"#0d0887\"],[0.1111111111111111,\"#46039f\"],[0.2222222222222222,\"#7201a8\"],[0.3333333333333333,\"#9c179e\"],[0.4444444444444444,\"#bd3786\"],[0.5555555555555556,\"#d8576b\"],[0.6666666666666666,\"#ed7953\"],[0.7777777777777778,\"#fb9f3a\"],[0.8888888888888888,\"#fdca26\"],[1.0,\"#f0f921\"]],\"diverging\":[[0,\"#8e0152\"],[0.1,\"#c51b7d\"],[0.2,\"#de77ae\"],[0.3,\"#f1b6da\"],[0.4,\"#fde0ef\"],[0.5,\"#f7f7f7\"],[0.6,\"#e6f5d0\"],[0.7,\"#b8e186\"],[0.8,\"#7fbc41\"],[0.9,\"#4d9221\"],[1,\"#276419\"]]},\"xaxis\":{\"gridcolor\":\"white\",\"linecolor\":\"white\",\"ticks\":\"\",\"title\":{\"standoff\":15},\"zerolinecolor\":\"white\",\"automargin\":true,\"zerolinewidth\":2},\"yaxis\":{\"gridcolor\":\"white\",\"linecolor\":\"white\",\"ticks\":\"\",\"title\":{\"standoff\":15},\"zerolinecolor\":\"white\",\"automargin\":true,\"zerolinewidth\":2},\"scene\":{\"xaxis\":{\"backgroundcolor\":\"#E5ECF6\",\"gridcolor\":\"white\",\"linecolor\":\"white\",\"showbackground\":true,\"ticks\":\"\",\"zerolinecolor\":\"white\",\"gridwidth\":2},\"yaxis\":{\"backgroundcolor\":\"#E5ECF6\",\"gridcolor\":\"white\",\"linecolor\":\"white\",\"showbackground\":true,\"ticks\":\"\",\"zerolinecolor\":\"white\",\"gridwidth\":2},\"zaxis\":{\"backgroundcolor\":\"#E5ECF6\",\"gridcolor\":\"white\",\"linecolor\":\"white\",\"showbackground\":true,\"ticks\":\"\",\"zerolinecolor\":\"white\",\"gridwidth\":2}},\"shapedefaults\":{\"line\":{\"color\":\"#2a3f5f\"}},\"annotationdefaults\":{\"arrowcolor\":\"#2a3f5f\",\"arrowhead\":0,\"arrowwidth\":1},\"geo\":{\"bgcolor\":\"white\",\"landcolor\":\"#E5ECF6\",\"subunitcolor\":\"white\",\"showland\":true,\"showlakes\":true,\"lakecolor\":\"white\"},\"title\":{\"x\":0.05},\"mapbox\":{\"style\":\"light\"}}},\"scene\":{\"xaxis\":{\"title\":{\"text\":\"PC 1\"}},\"yaxis\":{\"title\":{\"text\":\"PC 2\"}},\"zaxis\":{\"title\":{\"text\":\"PC 3\"}}},\"title\":{\"text\":\"PCA: Wine Dataset\"},\"width\":1000,\"height\":700},                        {\"responsive\": true}                    ).then(function(){\n",
       "                            \n",
       "var gd = document.getElementById('92df9e18-d0d6-4d0a-a333-b7c00798b2ac');\n",
       "var x = new MutationObserver(function (mutations, observer) {{\n",
       "        var display = window.getComputedStyle(gd).display;\n",
       "        if (!display || display === 'none') {{\n",
       "            console.log([gd, 'removed!']);\n",
       "            Plotly.purge(gd);\n",
       "            observer.disconnect();\n",
       "        }}\n",
       "}});\n",
       "\n",
       "// Listen for the removal of the full notebook cells\n",
       "var notebookContainer = gd.closest('#notebook-container');\n",
       "if (notebookContainer) {{\n",
       "    x.observe(notebookContainer, {childList: true});\n",
       "}}\n",
       "\n",
       "// Listen for the clearing of the current output cell\n",
       "var outputEl = gd.closest('.output');\n",
       "if (outputEl) {{\n",
       "    x.observe(outputEl, {childList: true});\n",
       "}}\n",
       "\n",
       "                        })                };                });            </script>        </div>"
      ]
     },
     "metadata": {},
     "output_type": "display_data"
    }
   ],
   "source": [
    "# Creating a 3D scatter plot using Plotly\n",
    "fig = go.Figure()\n",
    "\n",
    "# Add scatter plots for each customer segment\n",
    "for segment in pca_df_new['Customer_Segment'].unique():\n",
    "    segment_data = pca_df_new[pca_df_new['Customer_Segment'] == segment]\n",
    "    fig.add_trace(go.Scatter3d(\n",
    "        x=segment_data['Principal Component 1'],\n",
    "        y=segment_data['Principal Component 2'],\n",
    "        z=segment_data['Principal Component 3'],\n",
    "        mode='markers',\n",
    "        marker=dict(size=5, opacity=0.7),\n",
    "        name=f'Customer Segment {segment}'\n",
    "    ))\n",
    "\n",
    "# Update layout\n",
    "fig.update_layout(\n",
    "    scene=dict(\n",
    "        xaxis_title='PC 1',\n",
    "        yaxis_title='PC 2',\n",
    "        zaxis_title='PC 3'\n",
    "    ),\n",
    "    title='PCA: Wine Dataset',\n",
    "    width=1000,  \n",
    "    height=700 \n",
    ")\n",
    "\n",
    "# Show the plot\n",
    "fig.show()"
   ]
  }
 ],
 "metadata": {
  "kernelspec": {
   "display_name": "Python 3 (ipykernel)",
   "language": "python",
   "name": "python3"
  },
  "language_info": {
   "codemirror_mode": {
    "name": "ipython",
    "version": 3
   },
   "file_extension": ".py",
   "mimetype": "text/x-python",
   "name": "python",
   "nbconvert_exporter": "python",
   "pygments_lexer": "ipython3",
   "version": "3.11.7"
  }
 },
 "nbformat": 4,
 "nbformat_minor": 5
}
